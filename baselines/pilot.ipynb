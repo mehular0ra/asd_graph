{
 "cells": [
  {
   "cell_type": "code",
   "execution_count": 2,
   "metadata": {},
   "outputs": [],
   "source": [
    "import torch\n",
    "import torch.nn as nn\n",
    "import torch.nn.functional as F\n",
    "\n",
    "from torch_geometric.data import Data\n",
    "from torch_geometric.loader import DataLoader\n",
    "\n",
    "import numpy as np\n",
    "\n"
   ]
  },
  {
   "cell_type": "code",
   "execution_count": 3,
   "metadata": {},
   "outputs": [],
   "source": [
    "! cd /mnt/ssd1/mehul_data/research "
   ]
  },
  {
   "attachments": {},
   "cell_type": "markdown",
   "metadata": {},
   "source": [
    "### Load data"
   ]
  },
  {
   "cell_type": "code",
   "execution_count": 4,
   "metadata": {},
   "outputs": [],
   "source": [
    "location = '/mnt/ssd1/mehul_data/research/'\n",
    "location = '/mnt/ssd1/mehul_data/research/'\n",
    "fc_small = np.load(location + 'fc_small_data.npy', allow_pickle=True).item()\n",
    "\n",
    "final_pearson = fc_small['corr']\n",
    "labels = fc_small['label']\n",
    "site = fc_small['site']\n",
    "\n",
    "final_pearson, labels = [torch.from_numpy(data).float() for data in (final_pearson, labels)]\n",
    "# site = torch.from_numpy(site)"
   ]
  },
  {
   "attachments": {},
   "cell_type": "markdown",
   "metadata": {},
   "source": [
    "### Dataloader"
   ]
  },
  {
   "cell_type": "code",
   "execution_count": 5,
   "metadata": {},
   "outputs": [],
   "source": [
    "BATCH_SIZE = 32"
   ]
  },
  {
   "cell_type": "code",
   "execution_count": 14,
   "metadata": {},
   "outputs": [],
   "source": [
    "from sklearn.model_selection import StratifiedShuffleSplit\n",
    "\n",
    "def create_graph_data(final_pearson: torch.Tensor, node_feature: torch.Tensor, labels: torch.Tensor, site: torch.Tensor):\n",
    "    \n",
    "    graph_data_list = []\n",
    "    print(final_pearson.shape[0])\n",
    "    for i in range(final_pearson.shape[0]):\n",
    "        edge_index = final_pearson[i].nonzero()(as_tuple=False).t().contiguous()\n",
    "\n",
    "        data = Data(x=node_feature, edge_index=edge_index, y=labels[i], site=site[i])\n",
    "        graph_data_list.append(data)\n",
    "\n",
    "    return graph_data_list\n",
    "\n",
    "def init_stratified_dataloader(final_pearson: torch.tensor, \n",
    "                               labels: torch.tensor,\n",
    "                               site: torch.tensor,\n",
    "                               stratified: torch.tensor,):\n",
    "    \n",
    "    num_graphs, num_nodes = final_pearson.shape[0], final_pearson.shape[1]\n",
    "    node_feature = torch.ones((num_graphs, num_nodes))\n",
    "    graph_data_list = create_graph_data(final_pearson, node_feature, labels, site)\n",
    "\n",
    "    # Stratified split\n",
    "    split = StratifiedShuffleSplit(n_splits=1, test_size=0.2, random_state=42)\n",
    "    for train_index, test_index in split.split(final_pearson, stratified):\n",
    "        train_data_list = [graph_data_list[i] for i in train_index]\n",
    "        test_data_list = [graph_data_list[i] for i in test_index]\n",
    "\n",
    "    # create pyg dataloader\n",
    "    train_dataloader = DataLoader(\n",
    "        train_data_list, batch_size=BATCH_SIZE, shuffle=True)\n",
    "    test_dataloader = DataLoader(\n",
    "        test_data_list, batch_size=BATCH_SIZE, shuffle=False)\n",
    "    \n",
    "    return train_dataloader, test_dataloader"
   ]
  },
  {
   "cell_type": "code",
   "execution_count": 15,
   "metadata": {},
   "outputs": [
    {
     "name": "stdout",
     "output_type": "stream",
     "text": [
      "205\n"
     ]
    },
    {
     "ename": "TypeError",
     "evalue": "'Tensor' object is not callable",
     "output_type": "error",
     "traceback": [
      "\u001b[0;31m---------------------------------------------------------------------------\u001b[0m",
      "\u001b[0;31mTypeError\u001b[0m                                 Traceback (most recent call last)",
      "Cell \u001b[0;32mIn[15], line 4\u001b[0m\n\u001b[1;32m      1\u001b[0m \u001b[39m# train_dataloader, test_dataloader = init_stratified_dataloader(\u001b[39;00m\n\u001b[1;32m      2\u001b[0m \u001b[39m#     final_pearson, labels, site, stratified=site)\u001b[39;00m\n\u001b[0;32m----> 4\u001b[0m init_stratified_dataloader(\n\u001b[1;32m      5\u001b[0m     final_pearson, labels, site, stratified\u001b[39m=\u001b[39;49msite)\n",
      "Cell \u001b[0;32mIn[14], line 22\u001b[0m, in \u001b[0;36minit_stratified_dataloader\u001b[0;34m(final_pearson, labels, site, stratified)\u001b[0m\n\u001b[1;32m     20\u001b[0m num_graphs, num_nodes \u001b[39m=\u001b[39m final_pearson\u001b[39m.\u001b[39mshape[\u001b[39m0\u001b[39m], final_pearson\u001b[39m.\u001b[39mshape[\u001b[39m1\u001b[39m]\n\u001b[1;32m     21\u001b[0m node_feature \u001b[39m=\u001b[39m torch\u001b[39m.\u001b[39mones((num_graphs, num_nodes))\n\u001b[0;32m---> 22\u001b[0m graph_data_list \u001b[39m=\u001b[39m create_graph_data(final_pearson, node_feature, labels, site)\n\u001b[1;32m     24\u001b[0m \u001b[39m# Stratified split\u001b[39;00m\n\u001b[1;32m     25\u001b[0m split \u001b[39m=\u001b[39m StratifiedShuffleSplit(n_splits\u001b[39m=\u001b[39m\u001b[39m1\u001b[39m, test_size\u001b[39m=\u001b[39m\u001b[39m0.2\u001b[39m, random_state\u001b[39m=\u001b[39m\u001b[39m42\u001b[39m)\n",
      "Cell \u001b[0;32mIn[14], line 8\u001b[0m, in \u001b[0;36mcreate_graph_data\u001b[0;34m(final_pearson, node_feature, labels, site)\u001b[0m\n\u001b[1;32m      6\u001b[0m \u001b[39mprint\u001b[39m(final_pearson\u001b[39m.\u001b[39mshape[\u001b[39m0\u001b[39m])\n\u001b[1;32m      7\u001b[0m \u001b[39mfor\u001b[39;00m i \u001b[39min\u001b[39;00m \u001b[39mrange\u001b[39m(final_pearson\u001b[39m.\u001b[39mshape[\u001b[39m0\u001b[39m]):\n\u001b[0;32m----> 8\u001b[0m     edge_index \u001b[39m=\u001b[39m final_pearson[i]\u001b[39m.\u001b[39;49mnonzero()(as_tuple\u001b[39m=\u001b[39;49m\u001b[39mFalse\u001b[39;49;00m)\u001b[39m.\u001b[39mt()\u001b[39m.\u001b[39mcontiguous()\n\u001b[1;32m     10\u001b[0m     data \u001b[39m=\u001b[39m Data(x\u001b[39m=\u001b[39mnode_feature, edge_index\u001b[39m=\u001b[39medge_index, y\u001b[39m=\u001b[39mlabels[i], site\u001b[39m=\u001b[39msite[i])\n\u001b[1;32m     11\u001b[0m     graph_data_list\u001b[39m.\u001b[39mappend(data)\n",
      "\u001b[0;31mTypeError\u001b[0m: 'Tensor' object is not callable"
     ]
    }
   ],
   "source": [
    "# train_dataloader, test_dataloader = init_stratified_dataloader(\n",
    "#     final_pearson, labels, site, stratified=site)\n",
    "\n",
    "init_stratified_dataloader(\n",
    "    final_pearson, labels, site, stratified=site)\n"
   ]
  },
  {
   "cell_type": "code",
   "execution_count": null,
   "metadata": {},
   "outputs": [],
   "source": []
  }
 ],
 "metadata": {
  "kernelspec": {
   "display_name": "pyg",
   "language": "python",
   "name": "python3"
  },
  "language_info": {
   "codemirror_mode": {
    "name": "ipython",
    "version": 3
   },
   "file_extension": ".py",
   "mimetype": "text/x-python",
   "name": "python",
   "nbconvert_exporter": "python",
   "pygments_lexer": "ipython3",
   "version": "3.11.2"
  },
  "orig_nbformat": 4
 },
 "nbformat": 4,
 "nbformat_minor": 2
}
