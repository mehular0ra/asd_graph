{
 "cells": [
  {
   "cell_type": "code",
   "execution_count": 2,
   "metadata": {},
   "outputs": [
    {
     "name": "stderr",
     "output_type": "stream",
     "text": [
      "/home/mehul/.conda/envs/pyg/lib/python3.11/site-packages/umap/distances.py:1063: NumbaDeprecationWarning: The 'nopython' keyword argument was not supplied to the 'numba.jit' decorator. The implicit default value for this argument is currently False, but it will be changed to True in Numba 0.59.0. See https://numba.readthedocs.io/en/stable/reference/deprecation.html#deprecation-of-object-mode-fall-back-behaviour-when-using-jit for details.\n",
      "  @numba.jit()\n",
      "/home/mehul/.conda/envs/pyg/lib/python3.11/site-packages/umap/distances.py:1071: NumbaDeprecationWarning: The 'nopython' keyword argument was not supplied to the 'numba.jit' decorator. The implicit default value for this argument is currently False, but it will be changed to True in Numba 0.59.0. See https://numba.readthedocs.io/en/stable/reference/deprecation.html#deprecation-of-object-mode-fall-back-behaviour-when-using-jit for details.\n",
      "  @numba.jit()\n",
      "/home/mehul/.conda/envs/pyg/lib/python3.11/site-packages/umap/distances.py:1086: NumbaDeprecationWarning: The 'nopython' keyword argument was not supplied to the 'numba.jit' decorator. The implicit default value for this argument is currently False, but it will be changed to True in Numba 0.59.0. See https://numba.readthedocs.io/en/stable/reference/deprecation.html#deprecation-of-object-mode-fall-back-behaviour-when-using-jit for details.\n",
      "  @numba.jit()\n",
      "/home/mehul/.conda/envs/pyg/lib/python3.11/site-packages/tqdm/auto.py:21: TqdmWarning: IProgress not found. Please update jupyter and ipywidgets. See https://ipywidgets.readthedocs.io/en/stable/user_install.html\n",
      "  from .autonotebook import tqdm as notebook_tqdm\n",
      "/home/mehul/.conda/envs/pyg/lib/python3.11/site-packages/umap/umap_.py:660: NumbaDeprecationWarning: The 'nopython' keyword argument was not supplied to the 'numba.jit' decorator. The implicit default value for this argument is currently False, but it will be changed to True in Numba 0.59.0. See https://numba.readthedocs.io/en/stable/reference/deprecation.html#deprecation-of-object-mode-fall-back-behaviour-when-using-jit for details.\n",
      "  @numba.jit()\n"
     ]
    }
   ],
   "source": [
    "import numpy as np\n",
    "import matplotlib.pyplot as plt\n",
    "from sklearn.manifold import TSNE\n",
    "import umap.umap_ as umap\n",
    "import os\n",
    "\n",
    "import warnings\n",
    "from matplotlib import MatplotlibDeprecationWarning\n",
    "\n",
    "warnings.filterwarnings(\"ignore\", category=MatplotlibDeprecationWarning)\n",
    "plt.style.use('seaborn-white')\n"
   ]
  },
  {
   "cell_type": "code",
   "execution_count": 8,
   "metadata": {},
   "outputs": [],
   "source": [
    "import os\n",
    "import numpy as np\n",
    "from sklearn.manifold import TSNE\n",
    "import matplotlib.pyplot as plt\n",
    "\n",
    "\n",
    "def get_data(epoch, base_location, train=True):\n",
    "    tsne_folder = \"train_tsne\" if train else \"test_tsne\"\n",
    "\n",
    "    # Define the file paths using the base location\n",
    "    x_file_paths = [\n",
    "        os.path.join(base_location, tsne_folder, f\"x_epoch_{epoch}_iter_{i}.npy\") for i in range(6)\n",
    "    ]\n",
    "\n",
    "    label_file_paths = [\n",
    "        os.path.join(base_location, tsne_folder, f\"label_epoch_{epoch}_iter_{i}.npy\") for i in range(6)\n",
    "    ]\n",
    "\n",
    "    # Load the x files\n",
    "    x_arrays = [np.load(file_path) for file_path in x_file_paths]\n",
    "    # Load the label files\n",
    "    label_arrays = [np.load(file_path) for file_path in label_file_paths]\n",
    "\n",
    "    # Concatenate arrays along the first axis\n",
    "    x_final = np.concatenate(x_arrays, axis=0)\n",
    "    label_final = np.concatenate(label_arrays, axis=0)\n",
    "\n",
    "    return x_final, label_final\n",
    "\n",
    "\n",
    "def plot_data(x_final, label_final, base_location, epoch, train=True):\n",
    "    tsne = TSNE(angle=0.2, init='pca', method='barnes_hut',\n",
    "                metric='euclidean', n_iter=2000, perplexity=50, random_state=42)\n",
    "    x_tsne = tsne.fit_transform(x_final)\n",
    "\n",
    "    # Plotting\n",
    "    plt.figure(figsize=(7, 6), dpi=150)\n",
    "    plt.style.use('seaborn-white')\n",
    "\n",
    "    label_classes = [0, 1]\n",
    "    colors = ['blue', 'red']\n",
    "    labels = [\"TD\", \"ASD\"]\n",
    "\n",
    "    for i, (c, label) in enumerate(zip(colors, labels)):\n",
    "        plt.scatter(x_tsne[label_final == i, 0], x_tsne[label_final == i, 1], marker='o',\n",
    "                    color=c, label=label, edgecolor='w', s=50, alpha=0.8)\n",
    "\n",
    "    # Determine the title text based on the base location\n",
    "    if base_location.endswith(\"14-48-41\"):\n",
    "        title_text = 'HyperGEL'\n",
    "    elif base_location.endswith(\"14-48-22\"):\n",
    "        title_text = 'HyperGraphGCN'\n",
    "    else:\n",
    "        title_text = 'GCN'\n",
    "\n",
    "    # Customize plot attributes\n",
    "    plt.xticks([])\n",
    "    plt.yticks([])\n",
    "    ax = plt.gca()\n",
    "    ax.spines['right'].set_visible(False)\n",
    "    ax.spines['top'].set_visible(False)\n",
    "    leg = plt.legend(loc='best', fontsize=10, frameon=True, edgecolor='black')\n",
    "    for lh in leg.legendHandles:\n",
    "        lh.set_alpha(1)\n",
    "\n",
    "    # Save the plot\n",
    "    directory_name = os.path.basename('.')\n",
    "    train_test_folder = \"train\" if train else \"test\"\n",
    "    save_directory = os.path.join(\n",
    "        '/home/mehul/asd_graph/Notebooks', f\"{directory_name}_plots\", train_test_folder, title_text)\n",
    "\n",
    "    if not os.path.exists(save_directory):\n",
    "        os.makedirs(save_directory)\n",
    "    plt.axis('off')\n",
    "    plt.savefig(f\"{save_directory}/epoch_{epoch}.png\",\n",
    "                bbox_inches='tight', dpi=150)\n",
    "    plt.close()\n",
    "\n",
    "    return save_directory\n",
    "\n",
    "\n",
    "def get_data_and_plot(epoch, base_location, train=True):\n",
    "    x_final, label_final = get_data(epoch, base_location, train=train)\n",
    "    save_directory = plot_data(\n",
    "        x_final, label_final, base_location, epoch, train=train)\n",
    "    return save_directory\n"
   ]
  },
  {
   "cell_type": "code",
   "execution_count": 9,
   "metadata": {},
   "outputs": [
    {
     "name": "stdout",
     "output_type": "stream",
     "text": [
      "Saved epoch 99 to /home/mehul/asd_graph/Notebooks/._plots/test/GCN\n"
     ]
    },
    {
     "ename": "KeyboardInterrupt",
     "evalue": "",
     "output_type": "error",
     "traceback": [
      "\u001b[0;31m---------------------------------------------------------------------------\u001b[0m",
      "\u001b[0;31mKeyboardInterrupt\u001b[0m                         Traceback (most recent call last)",
      "Cell \u001b[0;32mIn[9], line 10\u001b[0m\n\u001b[1;32m      8\u001b[0m \u001b[39mfor\u001b[39;00m epoch \u001b[39min\u001b[39;00m \u001b[39mrange\u001b[39m(\u001b[39m100\u001b[39m):  \u001b[39m# For epochs 0-99\u001b[39;00m\n\u001b[1;32m      9\u001b[0m     save_directory \u001b[39m=\u001b[39m get_data_and_plot(epoch, base_location, train\u001b[39m=\u001b[39m\u001b[39mTrue\u001b[39;00m)\n\u001b[0;32m---> 10\u001b[0m     save_directory \u001b[39m=\u001b[39m get_data_and_plot(epoch, base_location, train\u001b[39m=\u001b[39;49m\u001b[39mFalse\u001b[39;49;00m)\n\u001b[1;32m     12\u001b[0m \u001b[39mprint\u001b[39m(\u001b[39mf\u001b[39m\u001b[39m\"\u001b[39m\u001b[39mSaved epoch \u001b[39m\u001b[39m{\u001b[39;00mepoch\u001b[39m}\u001b[39;00m\u001b[39m to \u001b[39m\u001b[39m{\u001b[39;00msave_directory\u001b[39m}\u001b[39;00m\u001b[39m\"\u001b[39m)\n",
      "Cell \u001b[0;32mIn[8], line 84\u001b[0m, in \u001b[0;36mget_data_and_plot\u001b[0;34m(epoch, base_location, train)\u001b[0m\n\u001b[1;32m     82\u001b[0m \u001b[39mdef\u001b[39;00m \u001b[39mget_data_and_plot\u001b[39m(epoch, base_location, train\u001b[39m=\u001b[39m\u001b[39mTrue\u001b[39;00m):\n\u001b[1;32m     83\u001b[0m     x_final, label_final \u001b[39m=\u001b[39m get_data(epoch, base_location, train\u001b[39m=\u001b[39mtrain)\n\u001b[0;32m---> 84\u001b[0m     save_directory \u001b[39m=\u001b[39m plot_data(\n\u001b[1;32m     85\u001b[0m         x_final, label_final, base_location, epoch, train\u001b[39m=\u001b[39;49mtrain)\n\u001b[1;32m     86\u001b[0m     \u001b[39mreturn\u001b[39;00m save_directory\n",
      "Cell \u001b[0;32mIn[8], line 34\u001b[0m, in \u001b[0;36mplot_data\u001b[0;34m(x_final, label_final, base_location, epoch, train)\u001b[0m\n\u001b[1;32m     31\u001b[0m \u001b[39mdef\u001b[39;00m \u001b[39mplot_data\u001b[39m(x_final, label_final, base_location, epoch, train\u001b[39m=\u001b[39m\u001b[39mTrue\u001b[39;00m):\n\u001b[1;32m     32\u001b[0m     tsne \u001b[39m=\u001b[39m TSNE(angle\u001b[39m=\u001b[39m\u001b[39m0.2\u001b[39m, init\u001b[39m=\u001b[39m\u001b[39m'\u001b[39m\u001b[39mpca\u001b[39m\u001b[39m'\u001b[39m, method\u001b[39m=\u001b[39m\u001b[39m'\u001b[39m\u001b[39mbarnes_hut\u001b[39m\u001b[39m'\u001b[39m,\n\u001b[1;32m     33\u001b[0m                 metric\u001b[39m=\u001b[39m\u001b[39m'\u001b[39m\u001b[39meuclidean\u001b[39m\u001b[39m'\u001b[39m, n_iter\u001b[39m=\u001b[39m\u001b[39m2000\u001b[39m, perplexity\u001b[39m=\u001b[39m\u001b[39m50\u001b[39m, random_state\u001b[39m=\u001b[39m\u001b[39m42\u001b[39m)\n\u001b[0;32m---> 34\u001b[0m     x_tsne \u001b[39m=\u001b[39m tsne\u001b[39m.\u001b[39;49mfit_transform(x_final)\n\u001b[1;32m     36\u001b[0m     \u001b[39m# Plotting\u001b[39;00m\n\u001b[1;32m     37\u001b[0m     plt\u001b[39m.\u001b[39mfigure(figsize\u001b[39m=\u001b[39m(\u001b[39m7\u001b[39m, \u001b[39m6\u001b[39m), dpi\u001b[39m=\u001b[39m\u001b[39m150\u001b[39m)\n",
      "File \u001b[0;32m~/.conda/envs/pyg/lib/python3.11/site-packages/sklearn/manifold/_t_sne.py:1119\u001b[0m, in \u001b[0;36mTSNE.fit_transform\u001b[0;34m(self, X, y)\u001b[0m\n\u001b[1;32m   1117\u001b[0m \u001b[39mself\u001b[39m\u001b[39m.\u001b[39m_validate_params()\n\u001b[1;32m   1118\u001b[0m \u001b[39mself\u001b[39m\u001b[39m.\u001b[39m_check_params_vs_input(X)\n\u001b[0;32m-> 1119\u001b[0m embedding \u001b[39m=\u001b[39m \u001b[39mself\u001b[39;49m\u001b[39m.\u001b[39;49m_fit(X)\n\u001b[1;32m   1120\u001b[0m \u001b[39mself\u001b[39m\u001b[39m.\u001b[39membedding_ \u001b[39m=\u001b[39m embedding\n\u001b[1;32m   1121\u001b[0m \u001b[39mreturn\u001b[39;00m \u001b[39mself\u001b[39m\u001b[39m.\u001b[39membedding_\n",
      "File \u001b[0;32m~/.conda/envs/pyg/lib/python3.11/site-packages/sklearn/manifold/_t_sne.py:1012\u001b[0m, in \u001b[0;36mTSNE._fit\u001b[0;34m(self, X, skip_num_points)\u001b[0m\n\u001b[1;32m   1006\u001b[0m \u001b[39m# Degrees of freedom of the Student's t-distribution. The suggestion\u001b[39;00m\n\u001b[1;32m   1007\u001b[0m \u001b[39m# degrees_of_freedom = n_components - 1 comes from\u001b[39;00m\n\u001b[1;32m   1008\u001b[0m \u001b[39m# \"Learning a Parametric Embedding by Preserving Local Structure\"\u001b[39;00m\n\u001b[1;32m   1009\u001b[0m \u001b[39m# Laurens van der Maaten, 2009.\u001b[39;00m\n\u001b[1;32m   1010\u001b[0m degrees_of_freedom \u001b[39m=\u001b[39m \u001b[39mmax\u001b[39m(\u001b[39mself\u001b[39m\u001b[39m.\u001b[39mn_components \u001b[39m-\u001b[39m \u001b[39m1\u001b[39m, \u001b[39m1\u001b[39m)\n\u001b[0;32m-> 1012\u001b[0m \u001b[39mreturn\u001b[39;00m \u001b[39mself\u001b[39;49m\u001b[39m.\u001b[39;49m_tsne(\n\u001b[1;32m   1013\u001b[0m     P,\n\u001b[1;32m   1014\u001b[0m     degrees_of_freedom,\n\u001b[1;32m   1015\u001b[0m     n_samples,\n\u001b[1;32m   1016\u001b[0m     X_embedded\u001b[39m=\u001b[39;49mX_embedded,\n\u001b[1;32m   1017\u001b[0m     neighbors\u001b[39m=\u001b[39;49mneighbors_nn,\n\u001b[1;32m   1018\u001b[0m     skip_num_points\u001b[39m=\u001b[39;49mskip_num_points,\n\u001b[1;32m   1019\u001b[0m )\n",
      "File \u001b[0;32m~/.conda/envs/pyg/lib/python3.11/site-packages/sklearn/manifold/_t_sne.py:1080\u001b[0m, in \u001b[0;36mTSNE._tsne\u001b[0;34m(self, P, degrees_of_freedom, n_samples, X_embedded, neighbors, skip_num_points)\u001b[0m\n\u001b[1;32m   1078\u001b[0m     opt_args[\u001b[39m\"\u001b[39m\u001b[39mmomentum\u001b[39m\u001b[39m\"\u001b[39m] \u001b[39m=\u001b[39m \u001b[39m0.8\u001b[39m\n\u001b[1;32m   1079\u001b[0m     opt_args[\u001b[39m\"\u001b[39m\u001b[39mn_iter_without_progress\u001b[39m\u001b[39m\"\u001b[39m] \u001b[39m=\u001b[39m \u001b[39mself\u001b[39m\u001b[39m.\u001b[39mn_iter_without_progress\n\u001b[0;32m-> 1080\u001b[0m     params, kl_divergence, it \u001b[39m=\u001b[39m _gradient_descent(obj_func, params, \u001b[39m*\u001b[39;49m\u001b[39m*\u001b[39;49mopt_args)\n\u001b[1;32m   1082\u001b[0m \u001b[39m# Save the final number of iterations\u001b[39;00m\n\u001b[1;32m   1083\u001b[0m \u001b[39mself\u001b[39m\u001b[39m.\u001b[39mn_iter_ \u001b[39m=\u001b[39m it\n",
      "File \u001b[0;32m~/.conda/envs/pyg/lib/python3.11/site-packages/sklearn/manifold/_t_sne.py:399\u001b[0m, in \u001b[0;36m_gradient_descent\u001b[0;34m(objective, p0, it, n_iter, n_iter_check, n_iter_without_progress, momentum, learning_rate, min_gain, min_grad_norm, verbose, args, kwargs)\u001b[0m\n\u001b[1;32m    396\u001b[0m \u001b[39m# only compute the error when needed\u001b[39;00m\n\u001b[1;32m    397\u001b[0m kwargs[\u001b[39m\"\u001b[39m\u001b[39mcompute_error\u001b[39m\u001b[39m\"\u001b[39m] \u001b[39m=\u001b[39m check_convergence \u001b[39mor\u001b[39;00m i \u001b[39m==\u001b[39m n_iter \u001b[39m-\u001b[39m \u001b[39m1\u001b[39m\n\u001b[0;32m--> 399\u001b[0m error, grad \u001b[39m=\u001b[39m objective(p, \u001b[39m*\u001b[39;49margs, \u001b[39m*\u001b[39;49m\u001b[39m*\u001b[39;49mkwargs)\n\u001b[1;32m    401\u001b[0m inc \u001b[39m=\u001b[39m update \u001b[39m*\u001b[39m grad \u001b[39m<\u001b[39m \u001b[39m0.0\u001b[39m\n\u001b[1;32m    402\u001b[0m dec \u001b[39m=\u001b[39m np\u001b[39m.\u001b[39minvert(inc)\n",
      "File \u001b[0;32m~/.conda/envs/pyg/lib/python3.11/site-packages/sklearn/manifold/_t_sne.py:280\u001b[0m, in \u001b[0;36m_kl_divergence_bh\u001b[0;34m(params, P, degrees_of_freedom, n_samples, n_components, angle, skip_num_points, verbose, compute_error, num_threads)\u001b[0m\n\u001b[1;32m    277\u001b[0m indptr \u001b[39m=\u001b[39m P\u001b[39m.\u001b[39mindptr\u001b[39m.\u001b[39mastype(np\u001b[39m.\u001b[39mint64, copy\u001b[39m=\u001b[39m\u001b[39mFalse\u001b[39;00m)\n\u001b[1;32m    279\u001b[0m grad \u001b[39m=\u001b[39m np\u001b[39m.\u001b[39mzeros(X_embedded\u001b[39m.\u001b[39mshape, dtype\u001b[39m=\u001b[39mnp\u001b[39m.\u001b[39mfloat32)\n\u001b[0;32m--> 280\u001b[0m error \u001b[39m=\u001b[39m _barnes_hut_tsne\u001b[39m.\u001b[39;49mgradient(\n\u001b[1;32m    281\u001b[0m     val_P,\n\u001b[1;32m    282\u001b[0m     X_embedded,\n\u001b[1;32m    283\u001b[0m     neighbors,\n\u001b[1;32m    284\u001b[0m     indptr,\n\u001b[1;32m    285\u001b[0m     grad,\n\u001b[1;32m    286\u001b[0m     angle,\n\u001b[1;32m    287\u001b[0m     n_components,\n\u001b[1;32m    288\u001b[0m     verbose,\n\u001b[1;32m    289\u001b[0m     dof\u001b[39m=\u001b[39;49mdegrees_of_freedom,\n\u001b[1;32m    290\u001b[0m     compute_error\u001b[39m=\u001b[39;49mcompute_error,\n\u001b[1;32m    291\u001b[0m     num_threads\u001b[39m=\u001b[39;49mnum_threads,\n\u001b[1;32m    292\u001b[0m )\n\u001b[1;32m    293\u001b[0m c \u001b[39m=\u001b[39m \u001b[39m2.0\u001b[39m \u001b[39m*\u001b[39m (degrees_of_freedom \u001b[39m+\u001b[39m \u001b[39m1.0\u001b[39m) \u001b[39m/\u001b[39m degrees_of_freedom\n\u001b[1;32m    294\u001b[0m grad \u001b[39m=\u001b[39m grad\u001b[39m.\u001b[39mravel()\n",
      "\u001b[0;31mKeyboardInterrupt\u001b[0m: "
     ]
    }
   ],
   "source": [
    "base_locations = [\n",
    "    \"/home/mehul/asd_graph/baselines/outputs/2023-09-05/22-08-45\",\n",
    "    \"/home/mehul/asd_graph/baselines/outputs/2023-09-05/22-09-04\",\n",
    "    \"/home/mehul/asd_graph/baselines/outputs/2023-09-05/22-09-15\"\n",
    "]\n",
    "\n",
    "for base_location in base_locations:\n",
    "    for epoch in range(100):  # For epochs 0-99\n",
    "        save_directory = get_data_and_plot(epoch, base_location, train=True)\n",
    "        save_directory = get_data_and_plot(epoch, base_location, train=False)\n",
    "\n",
    "    print(f\"Saved epoch {epoch} to {save_directory}\")\n"
   ]
  },
  {
   "cell_type": "code",
   "execution_count": 13,
   "metadata": {},
   "outputs": [
    {
     "name": "stdout",
     "output_type": "stream",
     "text": [
      "HyperGEL model:\n"
     ]
    },
    {
     "name": "stderr",
     "output_type": "stream",
     "text": [
      "/tmp/ipykernel_3433292/1470260004.py:39: MatplotlibDeprecationWarning: The seaborn styles shipped by Matplotlib are deprecated since 3.6, as they no longer correspond to the styles shipped by seaborn. However, they will remain available as 'seaborn-v0_8-<style>'. Alternatively, directly use the seaborn API instead.\n",
      "  plt.style.use('seaborn-white')  # No grid, plain white background\n",
      "/tmp/ipykernel_3433292/1470260004.py:70: MatplotlibDeprecationWarning: The legendHandles attribute was deprecated in Matplotlib 3.7 and will be removed two minor releases later. Use legend_handles instead.\n",
      "  for lh in leg.legendHandles:\n"
     ]
    },
    {
     "name": "stdout",
     "output_type": "stream",
     "text": [
      "HypergraphGCN model:\n"
     ]
    },
    {
     "name": "stderr",
     "output_type": "stream",
     "text": [
      "/tmp/ipykernel_3433292/1470260004.py:39: MatplotlibDeprecationWarning: The seaborn styles shipped by Matplotlib are deprecated since 3.6, as they no longer correspond to the styles shipped by seaborn. However, they will remain available as 'seaborn-v0_8-<style>'. Alternatively, directly use the seaborn API instead.\n",
      "  plt.style.use('seaborn-white')  # No grid, plain white background\n",
      "/tmp/ipykernel_3433292/1470260004.py:70: MatplotlibDeprecationWarning: The legendHandles attribute was deprecated in Matplotlib 3.7 and will be removed two minor releases later. Use legend_handles instead.\n",
      "  for lh in leg.legendHandles:\n",
      "/tmp/ipykernel_3433292/1470260004.py:39: MatplotlibDeprecationWarning: The seaborn styles shipped by Matplotlib are deprecated since 3.6, as they no longer correspond to the styles shipped by seaborn. However, they will remain available as 'seaborn-v0_8-<style>'. Alternatively, directly use the seaborn API instead.\n",
      "  plt.style.use('seaborn-white')  # No grid, plain white background\n",
      "/tmp/ipykernel_3433292/1470260004.py:70: MatplotlibDeprecationWarning: The legendHandles attribute was deprecated in Matplotlib 3.7 and will be removed two minor releases later. Use legend_handles instead.\n",
      "  for lh in leg.legendHandles:\n"
     ]
    },
    {
     "name": "stdout",
     "output_type": "stream",
     "text": [
      "GCN model:\n"
     ]
    },
    {
     "name": "stderr",
     "output_type": "stream",
     "text": [
      "/tmp/ipykernel_3433292/1470260004.py:39: MatplotlibDeprecationWarning: The seaborn styles shipped by Matplotlib are deprecated since 3.6, as they no longer correspond to the styles shipped by seaborn. However, they will remain available as 'seaborn-v0_8-<style>'. Alternatively, directly use the seaborn API instead.\n",
      "  plt.style.use('seaborn-white')  # No grid, plain white background\n",
      "/tmp/ipykernel_3433292/1470260004.py:70: MatplotlibDeprecationWarning: The legendHandles attribute was deprecated in Matplotlib 3.7 and will be removed two minor releases later. Use legend_handles instead.\n",
      "  for lh in leg.legendHandles:\n",
      "/tmp/ipykernel_3433292/1470260004.py:39: MatplotlibDeprecationWarning: The seaborn styles shipped by Matplotlib are deprecated since 3.6, as they no longer correspond to the styles shipped by seaborn. However, they will remain available as 'seaborn-v0_8-<style>'. Alternatively, directly use the seaborn API instead.\n",
      "  plt.style.use('seaborn-white')  # No grid, plain white background\n",
      "/tmp/ipykernel_3433292/1470260004.py:70: MatplotlibDeprecationWarning: The legendHandles attribute was deprecated in Matplotlib 3.7 and will be removed two minor releases later. Use legend_handles instead.\n",
      "  for lh in leg.legendHandles:\n"
     ]
    },
    {
     "data": {
      "text/plain": [
       "'/home/mehul/asd_graph/Notebooks/._plots/GCN'"
      ]
     },
     "execution_count": 13,
     "metadata": {},
     "output_type": "execute_result"
    }
   ],
   "source": [
    "base_locations = [\n",
    "    \"/home/mehul/asd_graph/baselines/outputs/2023-09-05/14-48-41\",  # HyperGEL\n",
    "    \"/home/mehul/asd_graph/baselines/outputs/2023-09-05/14-48-22\",  # HypergraphGCN\n",
    "    \"/home/mehul/asd_graph/baselines/outputs/2023-09-05/14-54-55\"   # GCN\n",
    "]\n",
    "print(\"HyperGEL model:\")\n",
    "get_data_and_plot(26, base_locations[0])\n",
    "\n",
    "print(\"HypergraphGCN model:\")\n",
    "get_data_and_plot(4, base_locations[1])\n",
    "get_data_and_plot(50, base_locations[1])\n",
    "\n",
    "\n",
    "print(\"GCN model:\")\n",
    "get_data_and_plot(13, base_locations[2])\n",
    "get_data_and_plot(29, base_locations[2])\n"
   ]
  },
  {
   "cell_type": "code",
   "execution_count": 19,
   "metadata": {},
   "outputs": [
    {
     "name": "stderr",
     "output_type": "stream",
     "text": [
      "/tmp/ipykernel_3433292/3111290558.py:39: MatplotlibDeprecationWarning: The seaborn styles shipped by Matplotlib are deprecated since 3.6, as they no longer correspond to the styles shipped by seaborn. However, they will remain available as 'seaborn-v0_8-<style>'. Alternatively, directly use the seaborn API instead.\n",
      "  plt.style.use('seaborn-white')  # No grid, plain white background\n"
     ]
    },
    {
     "ename": "TypeError",
     "evalue": "scatter() got multiple values for argument 's'",
     "output_type": "error",
     "traceback": [
      "\u001b[0;31m---------------------------------------------------------------------------\u001b[0m",
      "\u001b[0;31mTypeError\u001b[0m                                 Traceback (most recent call last)",
      "Cell \u001b[0;32mIn[19], line 1\u001b[0m\n\u001b[0;32m----> 1\u001b[0m get_data_and_plot(\u001b[39m52\u001b[39;49m, base_locations[\u001b[39m1\u001b[39;49m])\n",
      "Cell \u001b[0;32mIn[18], line 88\u001b[0m, in \u001b[0;36mget_data_and_plot\u001b[0;34m(epoch, base_location)\u001b[0m\n\u001b[1;32m     86\u001b[0m \u001b[39mdef\u001b[39;00m \u001b[39mget_data_and_plot\u001b[39m(epoch, base_location):\n\u001b[1;32m     87\u001b[0m     x_final, label_final \u001b[39m=\u001b[39m get_data(epoch, base_location)\n\u001b[0;32m---> 88\u001b[0m     save_directory \u001b[39m=\u001b[39m plot_data(x_final, label_final, base_location, epoch)\n\u001b[1;32m     89\u001b[0m     \u001b[39mreturn\u001b[39;00m save_directory\n",
      "Cell \u001b[0;32mIn[18], line 47\u001b[0m, in \u001b[0;36mplot_data\u001b[0;34m(x_final, label_final, base_location, epoch)\u001b[0m\n\u001b[1;32m     44\u001b[0m labels \u001b[39m=\u001b[39m [\u001b[39m\"\u001b[39m\u001b[39mTD\u001b[39m\u001b[39m\"\u001b[39m, \u001b[39m\"\u001b[39m\u001b[39mASD\u001b[39m\u001b[39m\"\u001b[39m]\n\u001b[1;32m     46\u001b[0m \u001b[39mfor\u001b[39;00m i, (c, label) \u001b[39min\u001b[39;00m \u001b[39menumerate\u001b[39m(\u001b[39mzip\u001b[39m(colors, labels)):\n\u001b[0;32m---> 47\u001b[0m     plt\u001b[39m.\u001b[39;49mscatter(x_tsne[label_final \u001b[39m==\u001b[39;49m i, \u001b[39m0\u001b[39;49m], x_tsne[label_final \u001b[39m==\u001b[39;49m i, \u001b[39m1\u001b[39;49m],\u001b[39m'\u001b[39;49m\u001b[39mo\u001b[39;49m\u001b[39m'\u001b[39;49m,\n\u001b[1;32m     48\u001b[0m                 color\u001b[39m=\u001b[39;49mc, label\u001b[39m=\u001b[39;49mlabel, edgecolor\u001b[39m=\u001b[39;49m\u001b[39m'\u001b[39;49m\u001b[39mw\u001b[39;49m\u001b[39m'\u001b[39;49m, s\u001b[39m=\u001b[39;49m\u001b[39m50\u001b[39;49m, alpha\u001b[39m=\u001b[39;49m\u001b[39m0.8\u001b[39;49m)\n\u001b[1;32m     50\u001b[0m \u001b[39mif\u001b[39;00m base_location \u001b[39m==\u001b[39m \u001b[39m'\u001b[39m\u001b[39m/home/mehul/asd_graph/baselines/outputs/2023-09-05/14-48-41\u001b[39m\u001b[39m'\u001b[39m:\n\u001b[1;32m     51\u001b[0m     title_text \u001b[39m=\u001b[39m \u001b[39m'\u001b[39m\u001b[39mHyperGEL\u001b[39m\u001b[39m'\u001b[39m\n",
      "\u001b[0;31mTypeError\u001b[0m: scatter() got multiple values for argument 's'"
     ]
    },
    {
     "data": {
      "text/plain": [
       "<Figure size 1050x900 with 0 Axes>"
      ]
     },
     "metadata": {},
     "output_type": "display_data"
    }
   ],
   "source": [
    "get_data_and_plot(52, base_locations[1])\n"
   ]
  },
  {
   "cell_type": "code",
   "execution_count": null,
   "metadata": {},
   "outputs": [],
   "source": [
    "\n",
    "# for base_location in base_locations:\n",
    "#     for epoch in range(100):  # For epochs 0-99\n",
    "#         save_directory = get_data_and_plot(epoch, base_location)\n",
    "#         print(f\"Saved epoch {epoch} to {save_directory}\")\n"
   ]
  },
  {
   "cell_type": "code",
   "execution_count": null,
   "metadata": {},
   "outputs": [],
   "source": []
  },
  {
   "cell_type": "code",
   "execution_count": null,
   "metadata": {},
   "outputs": [],
   "source": []
  },
  {
   "cell_type": "code",
   "execution_count": null,
   "metadata": {},
   "outputs": [],
   "source": []
  },
  {
   "cell_type": "code",
   "execution_count": null,
   "metadata": {},
   "outputs": [],
   "source": [
    "\n",
    "model2locations = {\n",
    "    'HyperGraphGCN': \"/home/mehul/asd_graph/baselines/outputs/2023-09-05/10-51-29\",\n",
    "    'GCN': \"/home/mehul/asd_graph/baselines/outputs/2023-09-03/11-31-08\",\n",
    "    'HyperGEL': \"/home/mehul/asd_graph/baselines/outputs/2023-09-05/10-37-58\"\n",
    "}\n",
    "model2epochs = {\n",
    "    'HyperGraphGCN': 37,\n",
    "    'GCN': 7,\n",
    "    'HyperGEL': 11\n",
    "}\n",
    "models = ['HyperGraphGCN', 'GCN', 'HyperGEL']\n",
    "for model in models:\n",
    "    base_location = model2locations[model]\n",
    "    epoch = model2epochs[model]\n",
    "    x_final, label_final = get_data(epoch, base_location)\n",
    "    plot_data(x_final, label_final, base_location, epoch)\n"
   ]
  }
 ],
 "metadata": {
  "kernelspec": {
   "display_name": "pyg",
   "language": "python",
   "name": "python3"
  },
  "language_info": {
   "codemirror_mode": {
    "name": "ipython",
    "version": 3
   },
   "file_extension": ".py",
   "mimetype": "text/x-python",
   "name": "python",
   "nbconvert_exporter": "python",
   "pygments_lexer": "ipython3",
   "version": "3.11.2"
  },
  "orig_nbformat": 4
 },
 "nbformat": 4,
 "nbformat_minor": 2
}
