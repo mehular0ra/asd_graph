{
 "cells": [
  {
   "cell_type": "code",
   "execution_count": 1,
   "metadata": {},
   "outputs": [],
   "source": [
    "import numpy as np\n",
    "import torch\n"
   ]
  },
  {
   "cell_type": "code",
   "execution_count": 2,
   "metadata": {},
   "outputs": [],
   "source": [
    "# path_to_saved_tensors = '/mnt/ssd1/mehul_data/research/tensor_collections_epoch_9.pt'\n",
    "path_to_saved_tensors = '../baselines/outputs/2023-08-29/11-18-26/tensor_collections_epoch_9.pt'\n",
    "saved_tensors = torch.load(path_to_saved_tensors,\n",
    "                           map_location=torch.device('cpu'))\n",
    "\n",
    "\n"
   ]
  },
  {
   "cell_type": "code",
   "execution_count": 3,
   "metadata": {},
   "outputs": [
    {
     "data": {
      "text/plain": [
       "dict_keys(['sub1', 'sub2', 'sub3', 'sub4', 'sub5', 'sub6', 'sub7', 'sub8', 'sub9', 'sub10', 'sub11', 'sub12', 'sub13', 'sub14', 'sub15', 'sub16', 'sub17', 'sub18', 'sub19', 'sub20', 'sub21', 'sub22', 'sub23', 'sub24', 'sub25', 'sub26', 'sub27', 'sub28', 'sub29', 'sub30', 'sub31', 'sub32', 'sub33', 'sub34', 'sub35', 'sub36', 'sub37', 'sub38', 'sub39', 'sub40', 'sub41', 'sub42', 'sub43', 'sub44', 'sub45', 'sub46'])"
      ]
     },
     "execution_count": 3,
     "metadata": {},
     "output_type": "execute_result"
    }
   ],
   "source": [
    "saved_tensors.keys()"
   ]
  },
  {
   "cell_type": "code",
   "execution_count": 8,
   "metadata": {},
   "outputs": [
    {
     "data": {
      "text/plain": [
       "736"
      ]
     },
     "execution_count": 8,
     "metadata": {},
     "output_type": "execute_result"
    }
   ],
   "source": [
    "46*16"
   ]
  },
  {
   "cell_type": "code",
   "execution_count": 5,
   "metadata": {},
   "outputs": [
    {
     "data": {
      "text/plain": [
       "dict_keys(['learned_he_weights', 'hyperedge_index'])"
      ]
     },
     "execution_count": 5,
     "metadata": {},
     "output_type": "execute_result"
    }
   ],
   "source": [
    "saved_tensors['sub46'].keys()\n"
   ]
  },
  {
   "cell_type": "code",
   "execution_count": 10,
   "metadata": {},
   "outputs": [
    {
     "data": {
      "text/plain": [
       "468"
      ]
     },
     "execution_count": 10,
     "metadata": {},
     "output_type": "execute_result"
    }
   ],
   "source": [
    "len(saved_tensors['sub46']['learned_he_weights'])\n"
   ]
  },
  {
   "cell_type": "code",
   "execution_count": 9,
   "metadata": {},
   "outputs": [
    {
     "data": {
      "text/plain": [
       "400"
      ]
     },
     "execution_count": 9,
     "metadata": {},
     "output_type": "execute_result"
    }
   ],
   "source": [
    "len(saved_tensors['sub46']['learned_he_weights'][0])\n"
   ]
  },
  {
   "cell_type": "code",
   "execution_count": 15,
   "metadata": {},
   "outputs": [
    {
     "data": {
      "text/plain": [
       "[tensor(1.0018),\n",
       " tensor(1.0017),\n",
       " tensor(1.0016),\n",
       " tensor(1.0014),\n",
       " tensor(1.0014),\n",
       " tensor(1.0014),\n",
       " tensor(1.0014),\n",
       " tensor(1.0013),\n",
       " tensor(1.0013),\n",
       " tensor(1.0013),\n",
       " tensor(1.0013),\n",
       " tensor(1.0013),\n",
       " tensor(1.0013),\n",
       " tensor(1.0012),\n",
       " tensor(1.0012),\n",
       " tensor(1.0012),\n",
       " tensor(1.0012),\n",
       " tensor(1.0012),\n",
       " tensor(1.0012),\n",
       " tensor(1.0011),\n",
       " tensor(1.0011),\n",
       " tensor(1.0011),\n",
       " tensor(1.0011),\n",
       " tensor(1.0011),\n",
       " tensor(1.0011),\n",
       " tensor(1.0011),\n",
       " tensor(1.0011),\n",
       " tensor(1.0011),\n",
       " tensor(1.0011),\n",
       " tensor(1.0011),\n",
       " tensor(1.0011),\n",
       " tensor(1.0010),\n",
       " tensor(1.0010),\n",
       " tensor(1.0010),\n",
       " tensor(1.0010),\n",
       " tensor(1.0010),\n",
       " tensor(1.0010),\n",
       " tensor(1.0010),\n",
       " tensor(1.0010),\n",
       " tensor(1.0010),\n",
       " tensor(1.0010),\n",
       " tensor(1.0010),\n",
       " tensor(1.0010),\n",
       " tensor(1.0009),\n",
       " tensor(1.0009),\n",
       " tensor(1.0009),\n",
       " tensor(1.0009),\n",
       " tensor(1.0009),\n",
       " tensor(1.0009),\n",
       " tensor(1.0009),\n",
       " tensor(1.0009),\n",
       " tensor(1.0009),\n",
       " tensor(1.0009),\n",
       " tensor(1.0009),\n",
       " tensor(1.0009),\n",
       " tensor(1.0009),\n",
       " tensor(1.0009),\n",
       " tensor(1.0009),\n",
       " tensor(1.0008),\n",
       " tensor(1.0008),\n",
       " tensor(1.0008),\n",
       " tensor(1.0008),\n",
       " tensor(1.0008),\n",
       " tensor(1.0008),\n",
       " tensor(1.0008),\n",
       " tensor(1.0008),\n",
       " tensor(1.0008),\n",
       " tensor(1.0008),\n",
       " tensor(1.0008),\n",
       " tensor(1.0008),\n",
       " tensor(1.0008),\n",
       " tensor(1.0008),\n",
       " tensor(1.0008),\n",
       " tensor(1.0008),\n",
       " tensor(1.0008),\n",
       " tensor(1.0007),\n",
       " tensor(1.0007),\n",
       " tensor(1.0007),\n",
       " tensor(1.0007),\n",
       " tensor(1.0007),\n",
       " tensor(1.0007),\n",
       " tensor(1.0007),\n",
       " tensor(1.0007),\n",
       " tensor(1.0007),\n",
       " tensor(1.0007),\n",
       " tensor(1.0007),\n",
       " tensor(1.0007),\n",
       " tensor(1.0007),\n",
       " tensor(1.0007),\n",
       " tensor(1.0007),\n",
       " tensor(1.0007),\n",
       " tensor(1.0007),\n",
       " tensor(1.0007),\n",
       " tensor(1.0007),\n",
       " tensor(1.0007),\n",
       " tensor(1.0007),\n",
       " tensor(1.0007),\n",
       " tensor(1.0007),\n",
       " tensor(1.0007),\n",
       " tensor(1.0007),\n",
       " tensor(1.0007),\n",
       " tensor(1.0006),\n",
       " tensor(1.0006),\n",
       " tensor(1.0006),\n",
       " tensor(1.0006),\n",
       " tensor(1.0006),\n",
       " tensor(1.0006),\n",
       " tensor(1.0006),\n",
       " tensor(1.0006),\n",
       " tensor(1.0006),\n",
       " tensor(1.0006),\n",
       " tensor(1.0006),\n",
       " tensor(1.0006),\n",
       " tensor(1.0006),\n",
       " tensor(1.0006),\n",
       " tensor(1.0006),\n",
       " tensor(1.0006),\n",
       " tensor(1.0006),\n",
       " tensor(1.0006),\n",
       " tensor(1.0006),\n",
       " tensor(1.0006),\n",
       " tensor(1.0006),\n",
       " tensor(1.0006),\n",
       " tensor(1.0006),\n",
       " tensor(1.0006),\n",
       " tensor(1.0005),\n",
       " tensor(1.0005),\n",
       " tensor(1.0005),\n",
       " tensor(1.0005),\n",
       " tensor(1.0005),\n",
       " tensor(1.0005),\n",
       " tensor(1.0005),\n",
       " tensor(1.0005),\n",
       " tensor(1.0005),\n",
       " tensor(1.0005),\n",
       " tensor(1.0005),\n",
       " tensor(1.0005),\n",
       " tensor(1.0005),\n",
       " tensor(1.0005),\n",
       " tensor(1.0005),\n",
       " tensor(1.0005),\n",
       " tensor(1.0005),\n",
       " tensor(1.0005),\n",
       " tensor(1.0005),\n",
       " tensor(1.0005),\n",
       " tensor(1.0005),\n",
       " tensor(1.0005),\n",
       " tensor(1.0005),\n",
       " tensor(1.0005),\n",
       " tensor(1.0005),\n",
       " tensor(1.0005),\n",
       " tensor(1.0005),\n",
       " tensor(1.0004),\n",
       " tensor(1.0004),\n",
       " tensor(1.0004),\n",
       " tensor(1.0004),\n",
       " tensor(1.0004),\n",
       " tensor(1.0004),\n",
       " tensor(1.0004),\n",
       " tensor(1.0004),\n",
       " tensor(1.0004),\n",
       " tensor(1.0004),\n",
       " tensor(1.0004),\n",
       " tensor(1.0004),\n",
       " tensor(1.0004),\n",
       " tensor(1.0004),\n",
       " tensor(1.0004),\n",
       " tensor(1.0004),\n",
       " tensor(1.0004),\n",
       " tensor(1.0004),\n",
       " tensor(1.0004),\n",
       " tensor(1.0004),\n",
       " tensor(1.0004),\n",
       " tensor(1.0004),\n",
       " tensor(1.0004),\n",
       " tensor(1.0004),\n",
       " tensor(1.0004),\n",
       " tensor(1.0004),\n",
       " tensor(1.0003),\n",
       " tensor(1.0003),\n",
       " tensor(1.0003),\n",
       " tensor(1.0003),\n",
       " tensor(1.0003),\n",
       " tensor(1.0003),\n",
       " tensor(1.0003),\n",
       " tensor(1.0003),\n",
       " tensor(1.0003),\n",
       " tensor(1.0003),\n",
       " tensor(1.0003),\n",
       " tensor(1.0003),\n",
       " tensor(1.0003),\n",
       " tensor(1.0003),\n",
       " tensor(1.0003),\n",
       " tensor(1.0003),\n",
       " tensor(1.0003),\n",
       " tensor(1.0003),\n",
       " tensor(1.0003),\n",
       " tensor(1.0003),\n",
       " tensor(1.0003),\n",
       " tensor(1.0003),\n",
       " tensor(1.0003),\n",
       " tensor(1.0003),\n",
       " tensor(1.0003),\n",
       " tensor(1.0003),\n",
       " tensor(1.0003),\n",
       " tensor(1.0003),\n",
       " tensor(1.0003),\n",
       " tensor(1.0003),\n",
       " tensor(1.0003),\n",
       " tensor(1.0003),\n",
       " tensor(1.0003),\n",
       " tensor(1.0003),\n",
       " tensor(1.0003),\n",
       " tensor(1.0003),\n",
       " tensor(1.0003),\n",
       " tensor(1.0003),\n",
       " tensor(1.0003),\n",
       " tensor(1.0003),\n",
       " tensor(1.0003),\n",
       " tensor(1.0002),\n",
       " tensor(1.0002),\n",
       " tensor(1.0002),\n",
       " tensor(1.0002),\n",
       " tensor(1.0002),\n",
       " tensor(1.0002),\n",
       " tensor(1.0002),\n",
       " tensor(1.0002),\n",
       " tensor(1.0002),\n",
       " tensor(1.0002),\n",
       " tensor(1.0002),\n",
       " tensor(1.0002),\n",
       " tensor(1.0002),\n",
       " tensor(1.0002),\n",
       " tensor(1.0002),\n",
       " tensor(1.0002),\n",
       " tensor(1.0002),\n",
       " tensor(1.0002),\n",
       " tensor(1.0002),\n",
       " tensor(1.0002),\n",
       " tensor(1.0002),\n",
       " tensor(1.0002),\n",
       " tensor(1.0002),\n",
       " tensor(1.0002),\n",
       " tensor(1.0002),\n",
       " tensor(1.0002),\n",
       " tensor(1.0002),\n",
       " tensor(1.0002),\n",
       " tensor(1.0001),\n",
       " tensor(1.0001),\n",
       " tensor(1.0001),\n",
       " tensor(1.0001),\n",
       " tensor(1.0001),\n",
       " tensor(1.0001),\n",
       " tensor(1.0001),\n",
       " tensor(1.0001),\n",
       " tensor(1.0001),\n",
       " tensor(1.0001),\n",
       " tensor(1.0001),\n",
       " tensor(1.0001),\n",
       " tensor(1.0001),\n",
       " tensor(1.0001),\n",
       " tensor(1.0001),\n",
       " tensor(1.0001),\n",
       " tensor(1.0001),\n",
       " tensor(1.0001),\n",
       " tensor(1.0001),\n",
       " tensor(1.0001),\n",
       " tensor(1.0001),\n",
       " tensor(1.0001),\n",
       " tensor(1.0001),\n",
       " tensor(1.0001),\n",
       " tensor(1.0001),\n",
       " tensor(1.0001),\n",
       " tensor(1.0001),\n",
       " tensor(1.0001),\n",
       " tensor(1.0001),\n",
       " tensor(1.0001),\n",
       " tensor(1.0001),\n",
       " tensor(1.0001),\n",
       " tensor(1.0001),\n",
       " tensor(1.0001),\n",
       " tensor(1.0001),\n",
       " tensor(1.0000),\n",
       " tensor(1.0000),\n",
       " tensor(1.0000),\n",
       " tensor(1.0000),\n",
       " tensor(1.0000),\n",
       " tensor(1.0000),\n",
       " tensor(1.0000),\n",
       " tensor(1.0000),\n",
       " tensor(1.0000),\n",
       " tensor(1.0000),\n",
       " tensor(1.0000),\n",
       " tensor(1.0000),\n",
       " tensor(1.0000),\n",
       " tensor(1.0000),\n",
       " tensor(1.0000),\n",
       " tensor(1.0000),\n",
       " tensor(1.0000),\n",
       " tensor(1.0000),\n",
       " tensor(1.0000),\n",
       " tensor(1.0000),\n",
       " tensor(1.0000),\n",
       " tensor(1.0000),\n",
       " tensor(1.0000),\n",
       " tensor(1.0000),\n",
       " tensor(1.0000),\n",
       " tensor(1.0000),\n",
       " tensor(1.0000),\n",
       " tensor(1.0000),\n",
       " tensor(1.0000),\n",
       " tensor(1.0000),\n",
       " tensor(0.9999),\n",
       " tensor(0.9999),\n",
       " tensor(0.9999),\n",
       " tensor(0.9999),\n",
       " tensor(0.9999),\n",
       " tensor(0.9999),\n",
       " tensor(0.9999),\n",
       " tensor(0.9999),\n",
       " tensor(0.9999),\n",
       " tensor(0.9999),\n",
       " tensor(0.9999),\n",
       " tensor(0.9999),\n",
       " tensor(0.9999),\n",
       " tensor(0.9999),\n",
       " tensor(0.9999),\n",
       " tensor(0.9999),\n",
       " tensor(0.9999),\n",
       " tensor(0.9999),\n",
       " tensor(0.9999),\n",
       " tensor(0.9999),\n",
       " tensor(0.9999),\n",
       " tensor(0.9999),\n",
       " tensor(0.9999),\n",
       " tensor(0.9998),\n",
       " tensor(0.9998),\n",
       " tensor(0.9998),\n",
       " tensor(0.9998),\n",
       " tensor(0.9998),\n",
       " tensor(0.9998),\n",
       " tensor(0.9998),\n",
       " tensor(0.9998),\n",
       " tensor(0.9998),\n",
       " tensor(0.9998),\n",
       " tensor(0.9998),\n",
       " tensor(0.9998),\n",
       " tensor(0.9998),\n",
       " tensor(0.9998),\n",
       " tensor(0.9998),\n",
       " tensor(0.9998),\n",
       " tensor(0.9998),\n",
       " tensor(0.9998),\n",
       " tensor(0.9998),\n",
       " tensor(0.9998),\n",
       " tensor(0.9998),\n",
       " tensor(0.9998),\n",
       " tensor(0.9997),\n",
       " tensor(0.9997),\n",
       " tensor(0.9997),\n",
       " tensor(0.9997),\n",
       " tensor(0.9997),\n",
       " tensor(0.9997),\n",
       " tensor(0.9997),\n",
       " tensor(0.9996),\n",
       " tensor(0.9996),\n",
       " tensor(0.9996),\n",
       " tensor(0.9996),\n",
       " tensor(0.9996),\n",
       " tensor(0.9996),\n",
       " tensor(0.9996),\n",
       " tensor(0.9996),\n",
       " tensor(0.9996),\n",
       " tensor(0.9995),\n",
       " tensor(0.9995),\n",
       " tensor(0.9995),\n",
       " tensor(0.9995),\n",
       " tensor(0.9995),\n",
       " tensor(0.9995),\n",
       " tensor(0.9995),\n",
       " tensor(0.9995),\n",
       " tensor(0.9995),\n",
       " tensor(0.9995),\n",
       " tensor(0.9995),\n",
       " tensor(0.9995),\n",
       " tensor(0.9995),\n",
       " tensor(0.9994),\n",
       " tensor(0.9994),\n",
       " tensor(0.9994),\n",
       " tensor(0.9994),\n",
       " tensor(0.9993),\n",
       " tensor(0.9993),\n",
       " tensor(0.9993),\n",
       " tensor(0.9992),\n",
       " tensor(0.9991),\n",
       " tensor(0.9991),\n",
       " tensor(0.9991),\n",
       " tensor(0.9991),\n",
       " tensor(0.9991),\n",
       " tensor(0.9987)]"
      ]
     },
     "execution_count": 15,
     "metadata": {},
     "output_type": "execute_result"
    }
   ],
   "source": [
    "sorted(saved_tensors['sub46']['learned_he_weights'][467], reverse=True)\n"
   ]
  },
  {
   "cell_type": "code",
   "execution_count": 17,
   "metadata": {},
   "outputs": [
    {
     "data": {
      "text/plain": [
       "262400"
      ]
     },
     "execution_count": 17,
     "metadata": {},
     "output_type": "execute_result"
    }
   ],
   "source": [
    "len(saved_tensors['sub1']['hyperedge_index'][0][1])\n"
   ]
  },
  {
   "cell_type": "code",
   "execution_count": 18,
   "metadata": {},
   "outputs": [
    {
     "data": {
      "text/plain": [
       "16400.0"
      ]
     },
     "execution_count": 18,
     "metadata": {},
     "output_type": "execute_result"
    }
   ],
   "source": [
    "262400 / 16"
   ]
  },
  {
   "cell_type": "code",
   "execution_count": 19,
   "metadata": {},
   "outputs": [
    {
     "data": {
      "text/plain": [
       "41.0"
      ]
     },
     "execution_count": 19,
     "metadata": {},
     "output_type": "execute_result"
    }
   ],
   "source": [
    "16400.0 // 400"
   ]
  },
  {
   "cell_type": "code",
   "execution_count": null,
   "metadata": {},
   "outputs": [],
   "source": []
  }
 ],
 "metadata": {
  "kernelspec": {
   "display_name": "pyg",
   "language": "python",
   "name": "python3"
  },
  "language_info": {
   "codemirror_mode": {
    "name": "ipython",
    "version": 3
   },
   "file_extension": ".py",
   "mimetype": "text/x-python",
   "name": "python",
   "nbconvert_exporter": "python",
   "pygments_lexer": "ipython3",
   "version": "3.11.2"
  },
  "orig_nbformat": 4
 },
 "nbformat": 4,
 "nbformat_minor": 2
}
