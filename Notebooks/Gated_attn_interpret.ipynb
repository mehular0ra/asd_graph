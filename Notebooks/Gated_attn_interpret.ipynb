{
 "cells": [
  {
   "cell_type": "code",
   "execution_count": null,
   "metadata": {},
   "outputs": [],
   "source": [
    "# /home/mehul/asd_graph/baselines/outputs/2023-09-06/13-01-25/train_node_attn\n",
    "# /A_epoch_0_inter_45.npy"
   ]
  },
  {
   "cell_type": "code",
   "execution_count": 5,
   "metadata": {},
   "outputs": [],
   "source": [
    "import numpy as np"
   ]
  },
  {
   "cell_type": "code",
   "execution_count": 1,
   "metadata": {},
   "outputs": [],
   "source": [
    "import numpy as np\n",
    "\n",
    "\n",
    "def softmax(x):\n",
    "    \"\"\"Compute softmax values along the second dimension of x.\"\"\"\n",
    "    e_x = np.exp(x - np.max(x, axis=1, keepdims=True)\n",
    "                 )  # Subtracting max for numerical stability\n",
    "    return e_x / e_x.sum(axis=1, keepdims=True)\n",
    "\n",
    "\n"
   ]
  },
  {
   "cell_type": "code",
   "execution_count": 2,
   "metadata": {},
   "outputs": [
    {
     "name": "stdout",
     "output_type": "stream",
     "text": [
      "(10, 400)\n"
     ]
    }
   ],
   "source": [
    "import numpy as np\n",
    "\n",
    "# path = '/home/mehul/asd_graph/baselines/outputs/2023-09-06/13-01-25/train_node_attn/A_epoch_0_inter_45.npy'\n",
    "base_path = '/home/mehul/asd_graph/baselines/outputs/2023-09-11/22-20-13/train_node_att/'\n",
    "node_path = 'A_epoch_0_iter_45.npy'\n",
    "label_path =  'label_epoch_0_iter_45.npy'\n",
    "node_data = np.load(base_path + node_path)\n",
    "label_data = np.load(base_path + label_path)\n",
    "\n",
    "print(node_data.shape)  # to check the dimensions of the loaded array\n"
   ]
  },
  {
   "cell_type": "code",
   "execution_count": 3,
   "metadata": {},
   "outputs": [],
   "source": [
    "A = softmax(node_data)\n"
   ]
  },
  {
   "cell_type": "code",
   "execution_count": 4,
   "metadata": {},
   "outputs": [
    {
     "name": "stdout",
     "output_type": "stream",
     "text": [
      "Results saved to output.txt\n"
     ]
    }
   ],
   "source": [
    "import numpy as np\n",
    "\n",
    "with open('output.txt', 'w') as file:\n",
    "    # For every row in A\n",
    "    for i in range(A.shape[0]):\n",
    "        # Sorting the indices\n",
    "        sorted_indices = np.argsort(A[i])\n",
    "\n",
    "        # Top 5 min values and their indices\n",
    "        min_indices = sorted_indices[:5]\n",
    "        min_values = A[i, min_indices]\n",
    "\n",
    "        # Top 5 max values and their indices\n",
    "        max_indices = sorted_indices[-5:]\n",
    "        max_values = A[i, max_indices]\n",
    "\n",
    "        file.write(f\"Row {i}:\\n\")\n",
    "\n",
    "        file.write(\"Top 5 min indices: \" +\n",
    "                   ', '.join(map(str, min_indices)) + '\\n')\n",
    "        file.write(\"Top 5 min values: \" +\n",
    "                   ', '.join(map(str, min_values)) + '\\n')\n",
    "\n",
    "        file.write(\"Top 5 max indices: \" +\n",
    "                   ', '.join(map(str, max_indices)) + '\\n')\n",
    "        file.write(\"Top 5 max values: \" +\n",
    "                   ', '.join(map(str, max_values)) + '\\n')\n",
    "\n",
    "        file.write(\"------\\n\")\n",
    "\n",
    "print(\"Results saved to output.txt\")\n"
   ]
  },
  {
   "cell_type": "code",
   "execution_count": 5,
   "metadata": {},
   "outputs": [
    {
     "data": {
      "text/plain": [
       "(10, 400)"
      ]
     },
     "execution_count": 5,
     "metadata": {},
     "output_type": "execute_result"
    }
   ],
   "source": [
    "A.shape"
   ]
  },
  {
   "cell_type": "code",
   "execution_count": 6,
   "metadata": {},
   "outputs": [
    {
     "name": "stdout",
     "output_type": "stream",
     "text": [
      "(16, 400)\n",
      "26.85759\n",
      "23.306446\n"
     ]
    }
   ],
   "source": [
    "\n",
    "# path = '/home/mehul/asd_graph/baselines/outputs/2023-09-06/13-01-25/train_node_attn/A_epoch_0_inter_45.npy'\n",
    "path = '/home/mehul/asd_graph/baselines/outputs/2023-09-11/19-51-48/train_node_att/A_epoch_46_iter_0.npy'\n",
    "data = np.load(path)\n",
    "\n",
    "print(data.shape)  # to check the dimensions of the loaded array\n",
    "print(max(A[0]*10000))\n",
    "print(min(A[0]*10000))\n"
   ]
  },
  {
   "cell_type": "code",
   "execution_count": 26,
   "metadata": {},
   "outputs": [
    {
     "name": "stdout",
     "output_type": "stream",
     "text": [
      "Total regions: 48\n"
     ]
    }
   ],
   "source": [
    "from collections import Counter\n",
    "def read_roi_mapping(filename='/mnt/ssd1/mehul_data/research/Schaefer2018_400Parcels_7Networks_order.txt'):\n",
    "    \"\"\"Reads ROI mapping from a given filename.\"\"\"\n",
    "    ROI_mapping = {}\n",
    "    with open(filename, 'r') as file:\n",
    "        for line in file:\n",
    "            # Split the line based on whitespace\n",
    "            values = line.split()\n",
    "\n",
    "            # Extract 'index' and 'name'\n",
    "            index = int(values[0]) - 1\n",
    "            name = values[1]\n",
    "\n",
    "            # Remove the \"7Networks_\" prefix\n",
    "            prefix = \"7Networks_\"\n",
    "            if name.startswith(prefix):\n",
    "                name = name[len(prefix):]\n",
    "\n",
    "            # Add the cleaned name to the dictionary\n",
    "            ROI_mapping[index] = name\n",
    "    return ROI_mapping\n",
    "\n",
    "\n",
    "def extract_region_name(roi_name):\n",
    "    \"\"\"Extract the region name from an ROI.\"\"\"\n",
    "    parts = roi_name.split(\"_\")\n",
    "    return \"_\".join(parts[:-1])  # Exclude the last part\n",
    "\n",
    "\n",
    "roi_mapping = read_roi_mapping()\n",
    "\n",
    "# Assuming roi_mapping is a dictionary with roi names\n",
    "roi_lst = [extract_region_name(roi_name) for roi_name in roi_mapping.values()]\n",
    "\n",
    "# Get the frequency count\n",
    "roi_counts = Counter(roi_lst)\n",
    "\n",
    "# Print out the counts\n",
    "total_regions = len(roi_counts)\n",
    "print(f\"Total regions: {total_regions}\")\n",
    "# for region, count in roi_counts.items():\n",
    "#     print(region, count)\n"
   ]
  },
  {
   "cell_type": "code",
   "execution_count": 27,
   "metadata": {},
   "outputs": [],
   "source": [
    "from collections import Counter\n",
    "import numpy as np\n",
    "\n",
    "\n",
    "def read_roi_mapping(filename='/mnt/ssd1/mehul_data/research/Schaefer2018_400Parcels_7Networks_order.txt'):\n",
    "    \"\"\"Reads ROI mapping from a given filename.\"\"\"\n",
    "    ROI_mapping = {}\n",
    "    with open(filename, 'r') as file:\n",
    "        for line in file:\n",
    "            # Split the line based on whitespace\n",
    "            values = line.split()\n",
    "\n",
    "            # Extract 'index' and 'name'\n",
    "            index = int(values[0]) - 1\n",
    "            name = values[1]\n",
    "\n",
    "            # Remove the \"7Networks_\" prefix\n",
    "            prefix = \"7Networks_\"\n",
    "            if name.startswith(prefix):\n",
    "                name = name[len(prefix):]\n",
    "\n",
    "            # Add the cleaned name to the dictionary\n",
    "            ROI_mapping[index] = name\n",
    "    return ROI_mapping\n",
    "\n",
    "def load_and_concatenate_data(base_path, epoch, num_iters, prefix):\n",
    "    \"\"\"Load and concatenate data across iterations.\"\"\"\n",
    "    all_data = []\n",
    "\n",
    "    for i in range(num_iters):\n",
    "        path = f\"{base_path}{prefix}_epoch_{epoch}_iter_{i}.npy\"\n",
    "        data = np.load(path)\n",
    "        all_data.append(data)\n",
    "\n",
    "    return np.concatenate(all_data, axis=0)\n",
    "\n",
    "\n",
    "def extract_top_rois(data, num_rois=50):\n",
    "    \"\"\"Extract top ROI indices for each subject based on the node values.\"\"\"\n",
    "    roi_indices = np.argsort(data, axis=1)[:, -num_rois:]\n",
    "    return roi_indices\n",
    "\n",
    "\n",
    "def match_rois_based_on_frequency(node_data, label_data, ROI_mapping, num_rois=50, combine_classes=False):\n",
    "    \"\"\"Find ROIs based on their frequency of occurrence within label classes.\"\"\"\n",
    "    roi_indices = extract_top_rois(node_data, num_rois=num_rois)\n",
    "\n",
    "    if combine_classes:\n",
    "        roi_counter_combined = Counter(roi for i in range(\n",
    "            label_data.shape[0]) for roi in roi_indices[i])\n",
    "        top_rois_combined = [(ROI_mapping[roi], count)\n",
    "                             for roi, count in roi_counter_combined.most_common(num_rois)]\n",
    "        return top_rois_combined\n",
    "    else:\n",
    "        roi_counter_class_0 = Counter(roi for i, label in enumerate(\n",
    "            label_data) if label == 0 for roi in roi_indices[i])\n",
    "        roi_counter_class_1 = Counter(roi for i, label in enumerate(\n",
    "            label_data) if label == 1 for roi in roi_indices[i])\n",
    "\n",
    "        top_rois_class_0 = [(ROI_mapping[roi], count)\n",
    "                            for roi, count in roi_counter_class_0.most_common(num_rois)]\n",
    "        top_rois_class_1 = [(ROI_mapping[roi], count)\n",
    "                            for roi, count in roi_counter_class_1.most_common(num_rois)]\n",
    "\n",
    "        return top_rois_class_0, top_rois_class_1\n",
    "\n",
    "\n",
    "def extract_region_name(roi_name):\n",
    "    \"\"\"Extract the region name from an ROI.\"\"\"\n",
    "    parts = roi_name.split(\"_\")\n",
    "    return \"_\".join(parts[:-1])  # Exclude the last part\n",
    "\n",
    "\n",
    "def aggregate_region_scores(top_rois):\n",
    "    \"\"\"Aggregate scores for regions.\"\"\"\n",
    "    region_scores = Counter()\n",
    "    for roi, count in top_rois:\n",
    "        region = extract_region_name(roi)\n",
    "        region_scores[region] += count\n",
    "    # Return regions sorted by their aggregated scores\n",
    "    return region_scores.most_common()\n",
    "\n",
    "\n",
    "def normalize_scores(region_scores):\n",
    "    \"\"\"Normalize scores such that the top region has a score of 1.\"\"\"\n",
    "    if not region_scores:\n",
    "        return []\n",
    "\n",
    "    # Extract the highest score from the top region\n",
    "    max_score = region_scores[0][1]\n",
    "\n",
    "    normalized_scores = [(region, score/max_score)\n",
    "                         for region, score in region_scores]\n",
    "\n",
    "    return normalized_scores\n",
    "\n",
    "\n",
    "def analyze_rois(base_path, epoch, num_rois=50, find_regions=True, normalized=True, combine_classes=False):\n",
    "    \"\"\"Load data, extract ROIs, and find matching ROIs within classes.\"\"\"\n",
    "    # Load node and label data\n",
    "    node_data = load_and_concatenate_data(\n",
    "        base_path, epoch, 46, 'A')  # 46 iterations: 0-45\n",
    "    label_data = load_and_concatenate_data(base_path, epoch, 46, 'label')\n",
    "\n",
    "    # Count subjects in each class\n",
    "    subjects_in_class_0 = np.sum(label_data == 0)\n",
    "    subjects_in_class_1 = np.sum(label_data == 1)\n",
    "\n",
    "    ROI_mapping = read_roi_mapping()\n",
    "\n",
    "    if combine_classes:\n",
    "        top_rois_combined = match_rois_based_on_frequency(\n",
    "            node_data, label_data, ROI_mapping, num_rois=num_rois, combine_classes=True)\n",
    "\n",
    "        if find_regions:\n",
    "            aggregated_regions_combined = aggregate_region_scores(\n",
    "                top_rois_combined)\n",
    "\n",
    "            if normalized:\n",
    "                aggregated_regions_combined = normalize_scores(\n",
    "                    aggregated_regions_combined)\n",
    "                print(\"Normalized region scores (combined classes):\",\n",
    "                      aggregated_regions_combined)\n",
    "            else:\n",
    "                print(\"Region scores (combined classes):\",\n",
    "                      aggregated_regions_combined)\n",
    "\n",
    "            return aggregated_regions_combined\n",
    "\n",
    "        else:\n",
    "            if normalized:\n",
    "                top_rois_combined = normalize_scores(top_rois_combined)\n",
    "                print(\"Normalized ROI scores (combined classes):\",\n",
    "                      top_rois_combined)\n",
    "            else:\n",
    "                print(\"Top ROIs (combined classes):\", top_rois_combined)\n",
    "\n",
    "            return top_rois_combined\n",
    "    else:\n",
    "        top_rois_class_0, top_rois_class_1 = match_rois_based_on_frequency(\n",
    "            node_data, label_data, ROI_mapping, num_rois=num_rois)\n",
    "\n",
    "        print(\"Number of subjects in class 0:\", subjects_in_class_0)\n",
    "        print(\"Number of subjects in class 1:\", subjects_in_class_1)\n",
    "\n",
    "        if find_regions:\n",
    "            aggregated_regions_class_0 = aggregate_region_scores(top_rois_class_0)\n",
    "            aggregated_regions_class_1 = aggregate_region_scores(top_rois_class_1)\n",
    "\n",
    "            if normalized:\n",
    "                aggregated_regions_class_0 = normalize_scores(\n",
    "                    aggregated_regions_class_0)\n",
    "                aggregated_regions_class_1 = normalize_scores(\n",
    "                    aggregated_regions_class_1)\n",
    "                print(\"Normalized region scores for class 0:\",\n",
    "                    aggregated_regions_class_0)\n",
    "                print(\"Normalized region scores for class 1:\",\n",
    "                    aggregated_regions_class_1)\n",
    "            else:\n",
    "                print(\"Region scores for class 0:\", aggregated_regions_class_0)\n",
    "                print(\"Region scores for class 1:\", aggregated_regions_class_1)\n",
    "\n",
    "            return aggregated_regions_class_0, aggregated_regions_class_1\n",
    "\n",
    "        else:\n",
    "            if normalized:\n",
    "                top_rois_class_0 = normalize_scores(top_rois_class_0)\n",
    "                top_rois_class_1 = normalize_scores(top_rois_class_1)\n",
    "                print(\"Normalized ROI scores for class 0:\", top_rois_class_0)\n",
    "                print(\"Normalized ROI scores for class 1:\", top_rois_class_1)\n",
    "            else:\n",
    "                print(\"Top ROIs for class 0:\", top_rois_class_0)\n",
    "                print(\"Top ROIs for class 1:\", top_rois_class_1)\n",
    "\n",
    "            return top_rois_class_0, top_rois_class_1\n",
    "\n",
    "\n",
    "\n",
    "\n",
    "\n"
   ]
  },
  {
   "cell_type": "code",
   "execution_count": 28,
   "metadata": {},
   "outputs": [
    {
     "name": "stdout",
     "output_type": "stream",
     "text": [
      "Number of subjects in class 0: 376\n",
      "Number of subjects in class 1: 340\n",
      "Normalized ROI scores for class 0: [('RH_Limbic_TempPole_7', 1.0), ('LH_Limbic_TempPole_8', 0.9854545454545455), ('RH_Limbic_OFC_1', 0.9781818181818182), ('RH_Vis_13', 0.9636363636363636), ('RH_Vis_2', 0.9490909090909091), ('LH_Vis_12', 0.9490909090909091), ('LH_Vis_2', 0.9454545454545454), ('RH_Limbic_OFC_4', 0.9236363636363636), ('RH_Limbic_TempPole_6', 0.9127272727272727), ('RH_Limbic_OFC_2', 0.9090909090909091), ('LH_Limbic_OFC_1', 0.9090909090909091), ('RH_Vis_7', 0.8872727272727273), ('LH_Limbic_TempPole_5', 0.8836363636363637), ('LH_Vis_7', 0.88), ('RH_Limbic_OFC_5', 0.88), ('RH_Limbic_TempPole_4', 0.8727272727272727), ('LH_Limbic_TempPole_3', 0.8618181818181818), ('RH_Vis_1', 0.8581818181818182), ('LH_Limbic_OFC_3', 0.8581818181818182), ('LH_Limbic_OFC_2', 0.8545454545454545), ('LH_Vis_15', 0.8545454545454545), ('RH_Vis_8', 0.850909090909091), ('RH_Vis_21', 0.84), ('RH_Cont_PFCl_1', 0.8327272727272728), ('RH_Limbic_TempPole_1', 0.8254545454545454), ('LH_Limbic_TempPole_4', 0.8218181818181818), ('LH_Cont_OFC_1', 0.8218181818181818), ('LH_Limbic_TempPole_2', 0.8109090909090909), ('LH_Limbic_TempPole_1', 0.8072727272727273), ('RH_Default_PFCv_2', 0.8036363636363636), ('LH_Limbic_TempPole_7', 0.8036363636363636), ('RH_Vis_10', 0.7927272727272727), ('RH_Limbic_OFC_3', 0.7890909090909091), ('LH_Limbic_OFC_4', 0.7890909090909091), ('RH_Limbic_TempPole_5', 0.7745454545454545), ('LH_Vis_1', 0.7745454545454545), ('LH_Default_PFC_2', 0.7636363636363637), ('RH_Limbic_TempPole_2', 0.7636363636363637), ('LH_Vis_9', 0.7272727272727273), ('RH_Default_pCunPCC_1', 0.72), ('RH_Vis_17', 0.7163636363636363), ('LH_SalVentAttn_FrOperIns_1', 0.7127272727272728), ('LH_Default_pCunPCC_1', 0.7054545454545454), ('LH_Vis_20', 0.7054545454545454), ('LH_Vis_6', 0.7054545454545454), ('RH_Vis_18', 0.7054545454545454), ('LH_Limbic_OFC_5', 0.7018181818181818), ('LH_Vis_19', 0.6981818181818182), ('RH_DorsAttn_Post_4', 0.6872727272727273), ('LH_DorsAttn_Post_1', 0.6618181818181819), ('RH_Cont_Temp_1', 0.6545454545454545), ('RH_Vis_15', 0.6509090909090909), ('RH_Limbic_OFC_6', 0.6363636363636364), ('RH_Limbic_TempPole_3', 0.6327272727272727), ('RH_Cont_pCun_1', 0.6290909090909091), ('LH_Default_PFC_4', 0.6290909090909091), ('LH_Vis_14', 0.6254545454545455), ('LH_Default_pCunPCC_2', 0.6181818181818182), ('LH_Cont_Temp_1', 0.6145454545454545), ('LH_Cont_pCun_1', 0.6072727272727273), ('LH_Default_Temp_3', 0.6036363636363636), ('RH_Cont_Temp_2', 0.6036363636363636), ('LH_Cont_pCun_2', 0.6), ('RH_Default_pCunPCC_3', 0.6), ('RH_DorsAttn_Post_1', 0.5890909090909091), ('LH_Vis_13', 0.5781818181818181), ('RH_DorsAttn_Post_15', 0.5781818181818181), ('LH_Default_Par_3', 0.5781818181818181), ('RH_Vis_4', 0.5781818181818181), ('RH_Default_PFCv_1', 0.5709090909090909), ('LH_Cont_PFCl_1', 0.5709090909090909), ('LH_Cont_Par_1', 0.5672727272727273), ('RH_Default_Temp_3', 0.5636363636363636), ('LH_Default_PFC_6', 0.56), ('LH_Vis_26', 0.5527272727272727), ('LH_DorsAttn_Post_2', 0.5527272727272727), ('RH_Default_PFCdPFCm_1', 0.5527272727272727), ('RH_Cont_PFCl_2', 0.5454545454545454), ('LH_Limbic_TempPole_6', 0.5454545454545454), ('RH_Cont_Par_3', 0.5272727272727272), ('LH_Cont_PFCl_4', 0.5272727272727272), ('LH_Default_pCunPCC_5', 0.5272727272727272), ('LH_Default_PFC_1', 0.5236363636363637), ('RH_SalVentAttn_FrOperIns_1', 0.5236363636363637), ('RH_DorsAttn_Post_7', 0.52), ('RH_Vis_14', 0.5163636363636364), ('RH_Cont_PFCl_3', 0.49454545454545457), ('LH_SalVentAttn_Med_6', 0.49454545454545457), ('LH_Vis_28', 0.49454545454545457), ('RH_Vis_24', 0.4909090909090909), ('RH_Cont_Cing_1', 0.48727272727272725), ('LH_Vis_3', 0.48363636363636364), ('RH_Default_Temp_1', 0.48363636363636364), ('RH_Vis_9', 0.4727272727272727), ('RH_DorsAttn_Post_17', 0.4727272727272727), ('LH_Cont_Cing_2', 0.4690909090909091), ('RH_Default_Par_2', 0.4690909090909091), ('RH_Vis_23', 0.4690909090909091), ('LH_Default_Temp_1', 0.4618181818181818), ('LH_Vis_30', 0.45454545454545453)]\n",
      "Normalized ROI scores for class 1: [('LH_Vis_2', 1.0), ('RH_Limbic_OFC_1', 0.9957983193277311), ('RH_Limbic_TempPole_7', 0.9873949579831933), ('LH_Limbic_OFC_1', 0.9621848739495799), ('LH_Vis_7', 0.957983193277311), ('RH_Vis_2', 0.9537815126050421), ('RH_Vis_8', 0.9411764705882353), ('RH_Vis_13', 0.9411764705882353), ('LH_Limbic_TempPole_8', 0.9369747899159664), ('LH_Vis_12', 0.9285714285714286), ('RH_Limbic_OFC_2', 0.9201680672268907), ('RH_Limbic_OFC_4', 0.907563025210084), ('LH_Cont_OFC_1', 0.8949579831932774), ('RH_Vis_21', 0.8907563025210085), ('LH_Vis_15', 0.8781512605042017), ('RH_Limbic_OFC_5', 0.8739495798319328), ('RH_Vis_1', 0.8697478991596639), ('LH_Limbic_OFC_4', 0.865546218487395), ('LH_Limbic_OFC_2', 0.8613445378151261), ('RH_Vis_7', 0.8571428571428571), ('LH_Vis_9', 0.8487394957983193), ('LH_Limbic_TempPole_2', 0.8487394957983193), ('RH_Limbic_TempPole_5', 0.8445378151260504), ('RH_Limbic_OFC_3', 0.8403361344537815), ('LH_Limbic_TempPole_3', 0.8403361344537815), ('RH_Limbic_TempPole_1', 0.8403361344537815), ('RH_Default_PFCv_2', 0.8319327731092437), ('LH_Limbic_TempPole_5', 0.8319327731092437), ('RH_Vis_10', 0.819327731092437), ('LH_Vis_1', 0.8151260504201681), ('LH_Limbic_OFC_3', 0.8109243697478992), ('LH_Vis_19', 0.8109243697478992), ('LH_Default_pCunPCC_1', 0.8109243697478992), ('RH_Limbic_TempPole_6', 0.8067226890756303), ('RH_Limbic_TempPole_4', 0.8067226890756303), ('LH_Vis_20', 0.8025210084033614), ('RH_Cont_PFCl_1', 0.7941176470588235), ('LH_Limbic_TempPole_7', 0.7899159663865546), ('RH_Default_pCunPCC_1', 0.7773109243697479), ('RH_Vis_18', 0.7647058823529411), ('RH_Vis_17', 0.7605042016806722), ('LH_Vis_6', 0.7563025210084033), ('LH_Default_PFC_2', 0.7563025210084033), ('LH_Default_pCunPCC_2', 0.7521008403361344), ('LH_Limbic_TempPole_1', 0.7226890756302521), ('LH_Limbic_OFC_5', 0.7142857142857143), ('LH_Vis_13', 0.7058823529411765), ('LH_Vis_14', 0.7058823529411765), ('LH_Default_PFC_4', 0.7058823529411765), ('RH_DorsAttn_Post_4', 0.6974789915966386), ('LH_DorsAttn_Post_1', 0.6890756302521008), ('RH_Vis_15', 0.680672268907563), ('RH_Limbic_OFC_6', 0.680672268907563), ('RH_Default_pCunPCC_3', 0.6764705882352942), ('RH_Cont_pCun_1', 0.6722689075630253), ('LH_Default_Par_3', 0.6680672268907563), ('LH_Limbic_TempPole_4', 0.6638655462184874), ('LH_Default_pCunPCC_5', 0.6554621848739496), ('RH_Limbic_TempPole_2', 0.6554621848739496), ('LH_Default_PFC_6', 0.6428571428571429), ('LH_Cont_pCun_1', 0.6428571428571429), ('LH_SalVentAttn_FrOperIns_1', 0.6386554621848739), ('LH_Vis_26', 0.6260504201680672), ('RH_Cont_Cing_1', 0.6260504201680672), ('RH_Vis_3', 0.6218487394957983), ('RH_Vis_4', 0.6218487394957983), ('RH_Cont_PFCl_2', 0.6134453781512605), ('LH_Cont_pCun_2', 0.6092436974789915), ('RH_DorsAttn_Post_15', 0.6092436974789915), ('LH_Vis_3', 0.6008403361344538), ('RH_Cont_Temp_2', 0.5966386554621849), ('RH_Cont_Temp_1', 0.5966386554621849), ('RH_Limbic_TempPole_3', 0.5882352941176471), ('LH_Cont_PFCl_1', 0.5840336134453782), ('RH_DorsAttn_Post_1', 0.5714285714285714), ('LH_Cont_Par_1', 0.5630252100840336), ('RH_Default_PFCv_1', 0.5630252100840336), ('RH_Vis_24', 0.5588235294117647), ('RH_Cont_Par_3', 0.5588235294117647), ('RH_Default_Temp_3', 0.5546218487394958), ('LH_Vis_8', 0.5546218487394958), ('RH_Default_PFCdPFCm_1', 0.5546218487394958), ('LH_Cont_Temp_1', 0.5462184873949579), ('LH_DorsAttn_Post_2', 0.542016806722689), ('LH_Vis_28', 0.542016806722689), ('RH_Default_pCunPCC_2', 0.5378151260504201), ('RH_SalVentAttn_FrOperIns_1', 0.5378151260504201), ('RH_Vis_14', 0.5336134453781513), ('LH_Cont_Cing_2', 0.5336134453781513), ('LH_SalVentAttn_Med_6', 0.5294117647058824), ('LH_Vis_22', 0.5210084033613446), ('RH_Default_pCunPCC_9', 0.5168067226890757), ('RH_Vis_27', 0.5168067226890757), ('RH_Vis_23', 0.5126050420168067), ('RH_Vis_30', 0.5126050420168067), ('LH_Default_Temp_3', 0.5084033613445378), ('RH_DorsAttn_Post_7', 0.5084033613445378), ('LH_Vis_31', 0.5084033613445378), ('RH_Default_PFCdPFCm_2', 0.5084033613445378), ('LH_DorsAttn_Post_15', 0.5042016806722689)]\n"
     ]
    }
   ],
   "source": [
    "# Usage\n",
    "base_path = '/home/mehul/asd_graph/baselines/outputs/2023-09-11/22-20-13/train_node_att/'\n",
    "epoch = 90\n",
    "tup = analyze_rois(base_path, epoch, num_rois=100,\n",
    "                   find_regions=False, normalized=True, combine_classes=False)"
   ]
  },
  {
   "cell_type": "code",
   "execution_count": 14,
   "metadata": {},
   "outputs": [
    {
     "data": {
      "text/plain": [
       "100"
      ]
     },
     "execution_count": 14,
     "metadata": {},
     "output_type": "execute_result"
    }
   ],
   "source": [
    "len(tup[1])"
   ]
  },
  {
   "cell_type": "code",
   "execution_count": 12,
   "metadata": {},
   "outputs": [],
   "source": [
    "import csv\n",
    "\n",
    "def save_to_csv(data, filename):\n",
    "    with open(filename, 'w', newline='') as csvfile:\n",
    "        csvwriter = csv.writer(csvfile)\n",
    "\n",
    "        # Write headers\n",
    "        csvwriter.writerow([\"Region Name\", \"Value\"])\n",
    "\n",
    "        # Write data\n",
    "        csvwriter.writerows(data)\n",
    "\n",
    "\n",
    "# Save the tuples to separate CSV files\n",
    "save_to_csv(tup[0], \"file1.csv\")\n",
    "save_to_csv(tup[1], \"file2.csv\")\n"
   ]
  },
  {
   "cell_type": "code",
   "execution_count": null,
   "metadata": {},
   "outputs": [],
   "source": []
  },
  {
   "cell_type": "markdown",
   "metadata": {},
   "source": [
    "### find top hyperedges\n"
   ]
  },
  {
   "cell_type": "code",
   "execution_count": 15,
   "metadata": {},
   "outputs": [],
   "source": [
    "base_path = '/home/mehul/asd_graph/baselines/outputs/2023-09-13/12-21-29/train_node_att/'\n",
    "# 'hyperedge_indices_combined_epoch_29_iter_45.py'\n",
    "# 'learned_weights_epoch_29_iter_45.py'\n"
   ]
  },
  {
   "cell_type": "code",
   "execution_count": 16,
   "metadata": {},
   "outputs": [
    {
     "name": "stdout",
     "output_type": "stream",
     "text": [
      "(10, 400, 400)\n"
     ]
    }
   ],
   "source": [
    "# load npy file\n",
    "path = base_path + 'hyperedge_indices_combined_epoch_29_iter_45.npy'\n",
    "data = np.load(path)\n",
    "print(data.shape)  # to check the dimensions of the loaded array"
   ]
  },
  {
   "cell_type": "code",
   "execution_count": 17,
   "metadata": {},
   "outputs": [
    {
     "name": "stdout",
     "output_type": "stream",
     "text": [
      "(400,)\n"
     ]
    }
   ],
   "source": [
    "# load npy file\n",
    "path = base_path + 'learned_weights_epoch_29_iter_45.npy'\n",
    "data = np.load(path)\n",
    "print(data.shape)  # to check the dimensions of the loaded array\n"
   ]
  },
  {
   "cell_type": "code",
   "execution_count": 2,
   "metadata": {},
   "outputs": [],
   "source": [
    "import numpy as np\n",
    "def load_hyperedge_matrices(base_path, epoch, num_iters=46):\n",
    "    \"\"\"Load and concatenate hyperedge matrices across iterations.\"\"\"\n",
    "    all_matrices = []\n",
    "\n",
    "    for i in range(num_iters):\n",
    "        path = f\"{base_path}hyperedge_indices_combined.npy\"\n",
    "        matrices = np.load(path)\n",
    "        all_matrices.append(matrices)\n",
    "\n",
    "    # Concatenate along the first axis (subject axis)\n",
    "    combined_matrices = np.concatenate(all_matrices, axis=0)\n",
    "    \n",
    "    return combined_matrices\n",
    "\n",
    "def load_learned_weights(base_path, epoch, iter=45):\n",
    "    \"\"\"Load learned weights from a specific iteration.\"\"\"\n",
    "    path = f\"{base_path}learned_weights_epoch_{epoch}.npy\"\n",
    "    return np.load(path)\n",
    "\n",
    "\n",
    "def labels_load_and_concatenate(base_path: str, epoch: int, iters: int) -> np.ndarray:\n",
    "    \"\"\"Load and concatenate labels across iterations.\"\"\"\n",
    "    all_data = []\n",
    "\n",
    "    for i in range(iters):\n",
    "        # Construct the file name\n",
    "        file_name = base_path + f'label_epoch_{epoch}_iter_{i}.npy'\n",
    "\n",
    "        # Load the data\n",
    "        data = np.load(file_name)\n",
    "\n",
    "        # Append the data to the list\n",
    "        all_data.extend(data)\n",
    "\n",
    "    # Convert list to numpy array\n",
    "    return np.array(all_data)\n"
   ]
  },
  {
   "cell_type": "code",
   "execution_count": 49,
   "metadata": {},
   "outputs": [
    {
     "name": "stdout",
     "output_type": "stream",
     "text": [
      "Shape of hyperedge_matrices: (736, 400, 400)\n",
      "Shape of learned_weights: (400,)\n",
      "Shape of labels: (716,)\n"
     ]
    }
   ],
   "source": [
    "base_path = '/home/mehul/asd_graph/baselines/outputs/2023-09-13/14-45-54/train_node_att/'\n",
    "\n",
    "epoch = 10\n",
    "# Load the data\n",
    "hyperedge_matrices = load_hyperedge_matrices(base_path, epoch=epoch)\n",
    "learned_weights = load_learned_weights(base_path, epoch=epoch)\n",
    "labels = labels_load_and_concatenate(base_path, epoch=epoch, iters=46)\n",
    "\n",
    "print(\"Shape of hyperedge_matrices:\", hyperedge_matrices.shape)\n",
    "print(\"Shape of learned_weights:\", learned_weights.shape)\n",
    "print(\"Shape of labels:\", labels.shape)\n",
    "\n",
    "\n",
    "# '/home/mehul/asd_graph/baselines/outputs/2023-09-13/14-45-54/train_node_att/hyperedge_indices_combined.npy'\n"
   ]
  },
  {
   "cell_type": "code",
   "execution_count": 53,
   "metadata": {},
   "outputs": [
    {
     "name": "stdout",
     "output_type": "stream",
     "text": [
      "top_indices [1.0078207 1.0086279 1.0090188 1.0100133 1.0100399 1.0109514 1.0118272\n",
      " 1.0125793 1.0131599 1.0131879]\n",
      "bottom_indices [0.9855567  0.9856685  0.98614186 0.98634225 0.9863923  0.98642313\n",
      " 0.98667365 0.9867723  0.98702544 0.9872229 ]\n"
     ]
    },
    {
     "data": {
      "image/png": "[encoded data removed]",
      "text/plain": [
       "<Figure size 1200x600 with 1 Axes>"
      ]
     },
     "metadata": {},
     "output_type": "display_data"
    }
   ],
   "source": [
    "import matplotlib.pyplot as plt\n",
    "import numpy as np\n",
    "import seaborn as sns\n",
    "\n",
    "\n",
    "def plot_top_and_bottom_node_weights(learned_weights, num_hyperedges=10):\n",
    "    \"\"\"Plot the top and bottom node weights based on their values.\"\"\"\n",
    "    # Sort the weights based on their values\n",
    "    sorted_indices = np.argsort(learned_weights)\n",
    "\n",
    "    # Extract the top and bottom node weights\n",
    "    top_indices = sorted_indices[-num_hyperedges:]\n",
    "    bottom_indices = sorted_indices[:num_hyperedges]\n",
    "\n",
    "    # Combine the top and bottom indices and weights\n",
    "    combined_indices = np.concatenate([bottom_indices, top_indices])\n",
    "    combined_weights = learned_weights[combined_indices]\n",
    "\n",
    "    # print top_indices and bottom_indices with their weights\n",
    "    print('top_indices', learned_weights[top_indices])\n",
    "    print('bottom_indices', learned_weights[bottom_indices])\n",
    "\n",
    "    # Colors\n",
    "    colors = ['red'] * num_hyperedges + ['blue'] * num_hyperedges\n",
    "\n",
    "    # Plot\n",
    "    plt.figure(figsize=(12, 6))\n",
    "    bars = plt.bar(range(2*num_hyperedges), combined_weights, color=colors)\n",
    "\n",
    "    # Annotate with the value of the node weight\n",
    "    for i, weight in enumerate(combined_weights):\n",
    "        plt.text(i, weight, f\"{weight:.2f}\",\n",
    "                 ha='center', va='bottom' if weight > 0 else 'top')\n",
    "\n",
    "    plt.axhline(0, color='black', linewidth=0.5)\n",
    "    plt.title(\"Top and Bottom Hyperedge Weights\")\n",
    "    plt.show()\n",
    "\n",
    "\n",
    "# Example usage:\n",
    "# learned_weights = np.random.randn(400)\n",
    "plot_top_and_bottom_node_weights(learned_weights, num_hyperedges=10)\n"
   ]
  },
  {
   "cell_type": "code",
   "execution_count": null,
   "metadata": {},
   "outputs": [],
   "source": []
  },
  {
   "cell_type": "code",
   "execution_count": 16,
   "metadata": {},
   "outputs": [
    {
     "data": {
      "text/plain": [
       "(10,)"
      ]
     },
     "execution_count": 16,
     "metadata": {},
     "output_type": "execute_result"
    }
   ],
   "source": [
    "# split the set of 3 into 2 classes based on labels\n",
    "# take 1 subject from each class\n",
    "# from the above imp. node list i have for asd, td: take 20 \n",
    "# for these 2 subjects, "
   ]
  },
  {
   "cell_type": "code",
   "execution_count": 20,
   "metadata": {},
   "outputs": [],
   "source": [
    "np.save('labels.npy', labels)"
   ]
  },
  {
   "cell_type": "code",
   "execution_count": 46,
   "metadata": {},
   "outputs": [],
   "source": [
    "np.save('hyperedge_matrices.npy', hyperedge_matrices)"
   ]
  },
  {
   "cell_type": "code",
   "execution_count": 48,
   "metadata": {},
   "outputs": [],
   "source": [
    "np.save('learned_weights.npy', learned_weights)"
   ]
  },
  {
   "cell_type": "code",
   "execution_count": 52,
   "metadata": {},
   "outputs": [
    {
     "data": {
      "text/plain": [
       "(716, 400, 400)"
      ]
     },
     "execution_count": 52,
     "metadata": {},
     "output_type": "execute_result"
    }
   ],
   "source": [
    "np.load('hyperedge_matrices.npy', allow_pickle=True).shape"
   ]
  },
  {
   "cell_type": "code",
   "execution_count": 24,
   "metadata": {},
   "outputs": [
    {
     "name": "stdout",
     "output_type": "stream",
     "text": [
      "[0. 1.]\n"
     ]
    }
   ],
   "source": [
    "labels = np.load('labels.npy', allow_pickle=True)\n",
    "print(labels[:2])"
   ]
  },
  {
   "cell_type": "code",
   "execution_count": 31,
   "metadata": {},
   "outputs": [
    {
     "name": "stdout",
     "output_type": "stream",
     "text": [
      "[]\n"
     ]
    }
   ],
   "source": [
    "# subject 0 is asd, subject 1 is td\n",
    "hyperedge_matrices = np.load('hyperedge_matrices.npy', allow_pickle=True)\n",
    "subject_0 = hyperedge_matrices[0]\n",
    "subject_1 = hyperedge_matrices[1]\n",
    "\n",
    "subject_0_imp_nodes = tup[0]\n",
    "subject_1_imp_nodes = tup[1]\n",
    "\n",
    "# find comman imp nodes between subject 0 and subject 1\n",
    "common_imp_nodes = []\n",
    "for node in subject_0_imp_nodes:\n",
    "    if node in subject_1_imp_nodes:\n",
    "        common_imp_nodes.append(node)\n",
    "\n",
    "\n",
    "print(common_imp_nodes)\n"
   ]
  },
  {
   "cell_type": "code",
   "execution_count": null,
   "metadata": {},
   "outputs": [],
   "source": []
  }
 ],
 "metadata": {
  "kernelspec": {
   "display_name": "pyg",
   "language": "python",
   "name": "python3"
  },
  "language_info": {
   "codemirror_mode": {
    "name": "ipython",
    "version": 3
   },
   "file_extension": ".py",
   "mimetype": "text/x-python",
   "name": "python",
   "nbconvert_exporter": "python",
   "pygments_lexer": "ipython3",
   "version": "3.11.2"
  },
  "orig_nbformat": 4
 },
 "nbformat": 4,
 "nbformat_minor": 2
}
